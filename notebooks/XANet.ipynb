{
  "cells": [
    {
      "cell_type": "markdown",
      "metadata": {
        "id": "e07mjCWoX57P"
      },
      "source": [
        "# **Imports**\n",
        "\n"
      ]
    },
    {
      "cell_type": "code",
      "execution_count": null,
      "metadata": {
        "id": "v58W90hlAJJc"
      },
      "outputs": [],
      "source": [
        "import tensorflow as tf\n",
        "from tensorflow.keras.layers import Input,Dense,Conv2D,Add\n",
        "from tensorflow.keras.layers import SeparableConv2D,ReLU\n",
        "from tensorflow.keras.layers import BatchNormalization,MaxPool2D\n",
        "from tensorflow.keras.layers import GlobalAvgPool2D\n",
        "from tensorflow.keras import Model\n",
        "import numpy as np\n",
        "from tensorflow import keras\n",
        "from tensorflow.keras.layers import LayerNormalization, Dense, Embedding, Layer, Dropout, Input\n",
        "from tensorflow.keras.layers import MultiHeadAttention, Add, Flatten, Activation, MaxPooling2D, add, GlobalMaxPooling2D\n",
        "from tensorflow.keras.callbacks import EarlyStopping\n",
        "from tensorflow.keras.optimizers import Adam, AdamW\n",
        "# import tensorflow_addons as tfa\n",
        "import warnings"
      ]
    },
    {
      "cell_type": "code",
      "execution_count": null,
      "metadata": {
        "colab": {
          "base_uri": "https://localhost:8080/"
        },
        "id": "LRM2ZpLNWBEo",
        "outputId": "0a569001-ef5a-4e8f-c380-c314b66bc267"
      },
      "outputs": [
        {
          "output_type": "stream",
          "name": "stdout",
          "text": [
            "Drive already mounted at /content/drive; to attempt to forcibly remount, call drive.mount(\"/content/drive\", force_remount=True).\n"
          ]
        }
      ],
      "source": [
        "from google.colab import drive\n",
        "drive.mount('/content/drive')"
      ]
    },
    {
      "cell_type": "code",
      "execution_count": null,
      "metadata": {
        "id": "3SguYzJw-S9X"
      },
      "outputs": [],
      "source": [
        "from tensorflow.keras.preprocessing.image import ImageDataGenerator\n",
        "from tensorflow.keras.utils import get_custom_objects\n",
        "from PIL import Image\n",
        "import numpy as np\n",
        "from tensorflow.keras import backend, layers, models\n",
        "import tensorflow as tf\n",
        "import numpy as np\n",
        "from PIL import Image\n",
        "import os"
      ]
    },
    {
      "cell_type": "code",
      "execution_count": null,
      "metadata": {
        "id": "lC-9BzFjMtuL"
      },
      "outputs": [],
      "source": [
        "from skimage import io"
      ]
    },
    {
      "cell_type": "markdown",
      "metadata": {
        "id": "AwyKJbmsX-1f"
      },
      "source": [
        "# **Data Preprocessing**"
      ]
    },
    {
      "cell_type": "code",
      "execution_count": null,
      "metadata": {
        "id": "R3UAbGtlEg4l"
      },
      "outputs": [],
      "source": []
    },
    {
      "cell_type": "code",
      "execution_count": null,
      "metadata": {
        "id": "BTNPfvYKEg2S"
      },
      "outputs": [],
      "source": []
    },
    {
      "cell_type": "code",
      "execution_count": null,
      "metadata": {
        "colab": {
          "base_uri": "https://localhost:8080/"
        },
        "id": "lJNHss62EgxP",
        "outputId": "9aa55b12-ef3b-41d6-e27f-149927315c06"
      },
      "outputs": [
        {
          "name": "stdout",
          "output_type": "stream",
          "text": [
            "Found 3998 images belonging to 2 classes.\n"
          ]
        }
      ],
      "source": [
        "train = ImageDataGenerator(rescale=1/255.0)\n",
        "trainset = train.flow_from_directory(\n",
        "    '/content/drive/MyDrive/Colab Notebooks/ForgeryDetection/fold0',\n",
        "    target_size=(160,160),\n",
        ")"
      ]
    },
    {
      "cell_type": "code",
      "execution_count": null,
      "metadata": {
        "id": "ngxyPOaQDOMw"
      },
      "outputs": [],
      "source": [
        "batch = next(trainset)"
      ]
    },
    {
      "cell_type": "code",
      "execution_count": null,
      "metadata": {
        "id": "GeaBStZkDOPZ"
      },
      "outputs": [],
      "source": [
        "batch"
      ]
    },
    {
      "cell_type": "code",
      "execution_count": null,
      "metadata": {
        "id": "5vRPMWeWSw3s"
      },
      "outputs": [],
      "source": []
    },
    {
      "cell_type": "code",
      "execution_count": null,
      "metadata": {
        "id": "Vqry9kyZSw1Q"
      },
      "outputs": [],
      "source": []
    },
    {
      "cell_type": "code",
      "execution_count": null,
      "metadata": {
        "id": "i6u3Fp2DSwy-"
      },
      "outputs": [],
      "source": []
    },
    {
      "cell_type": "markdown",
      "metadata": {
        "id": "xsDksRGsYHYe"
      },
      "source": [
        "# Xception Network"
      ]
    },
    {
      "cell_type": "code",
      "execution_count": null,
      "metadata": {
        "id": "GZEhIflrwYvu"
      },
      "outputs": [],
      "source": []
    },
    {
      "cell_type": "code",
      "execution_count": null,
      "metadata": {
        "id": "2heIBDN1L6Ip"
      },
      "outputs": [],
      "source": [
        "TF_WEIGHTS_PATH_NO_TOP = '/content/drive/MyDrive/Colab Notebooks/ForgeryDetection/xception_weights_tf_dim_ordering_tf_kernels_notop.h5'\n",
        "\n",
        "\n",
        "def Xception(include_top=False, weights='imagenet', input_tensor=None, input_shape=None, pooling=None, classes=1000, **kwargs):\n",
        "    \"\"\"Instantiates the Xception architecture.\n",
        "\n",
        "    Optionally loads weights pre-trained on ImageNet.\n",
        "    Note that the data format convention used by the model is\n",
        "    the one specified in your Keras config at `~/.keras/keras.json`.\n",
        "\n",
        "    Note that the default input image size for this model is 299x299.\n",
        "\n",
        "    # Arguments\n",
        "        include_top: whether to include the fully-connected\n",
        "            layer at the top of the network.\n",
        "        weights: one of `None` (random initialization),\n",
        "              'imagenet' (pre-training on ImageNet),\n",
        "              or the path to the weights file to be loaded.\n",
        "        input_tensor: optional Keras tensor\n",
        "            (i.e. output of `layers.Input()`)\n",
        "            to use as image input for the model.\n",
        "        input_shape: optional shape tuple, only to be specified\n",
        "            if `include_top` is False (otherwise the input shape\n",
        "            has to be `(299, 299, 3)`.\n",
        "            It should have exactly 3 inputs channels,\n",
        "            and width and height should be no smaller than 71.\n",
        "            E.g. `(150, 150, 3)` would be one valid value.\n",
        "        pooling: Optional pooling mode for feature extraction\n",
        "            when `include_top` is `False`.\n",
        "            - `None` means that the output of the model will be\n",
        "                the 4D tensor output of the\n",
        "                last convolutional block.\n",
        "            - `avg` means that global average pooling\n",
        "                will be applied to the output of the\n",
        "                last convolutional block, and thus\n",
        "                the output of the model will be a 2D tensor.\n",
        "            - `max` means that global max pooling will\n",
        "                be applied.\n",
        "        classes: optional number of classes to classify images\n",
        "            into, only to be specified if `include_top` is True,\n",
        "            and if no `weights` argument is specified.\n",
        "\n",
        "    # Returns\n",
        "        A Keras model instance.\n",
        "\n",
        "    # Raises\n",
        "        ValueError: in case of invalid argument for `weights`,\n",
        "            or invalid input shape.\n",
        "        RuntimeError: If attempting to run this model with a\n",
        "            backend that does not support separable convolutions.\n",
        "    \"\"\"\n",
        "    # backend, layers, models, keras_utils = get_submodules_from_kwargs(kwargs)\n",
        "\n",
        "    if not (weights in {'imagenet', None} or os.path.exists(weights)):\n",
        "        raise ValueError('The `weights` argument should be either '\n",
        "                         '`None` (random initialization), `imagenet` '\n",
        "                         '(pre-training on ImageNet), '\n",
        "                         'or the path to the weights file to be loaded.')\n",
        "\n",
        "    if weights == 'imagenet' and include_top and classes != 1000:\n",
        "        raise ValueError('If using `weights` as `\"imagenet\"` with `include_top`'\n",
        "                         ' as true, `classes` should be 1000')\n",
        "\n",
        "    # Determine proper input shape\n",
        "    input_shape = (256, 256, 3)\n",
        "\n",
        "    if input_tensor is None:\n",
        "        img_input = layers.Input(shape=input_shape)\n",
        "    else:\n",
        "        if not backend.is_keras_tensor(input_tensor):\n",
        "            img_input = layers.Input(tensor=input_tensor, shape=input_shape)\n",
        "        else:\n",
        "            img_input = input_tensor\n",
        "\n",
        "    channel_axis = 1 if backend.image_data_format() == 'channels_first' else -1\n",
        "\n",
        "    x = layers.Conv2D(32, (3, 3),\n",
        "                      strides=(2, 2),\n",
        "                      use_bias=False,\n",
        "                      name='block1_conv1')(img_input)\n",
        "    x = layers.BatchNormalization(axis=channel_axis, name='block1_conv1_bn')(x)\n",
        "    x = layers.Activation('relu', name='block1_conv1_act')(x)\n",
        "    x = layers.Conv2D(64, (3, 3), use_bias=False, name='block1_conv2')(x)\n",
        "    x = layers.BatchNormalization(axis=channel_axis, name='block1_conv2_bn')(x)\n",
        "    x = layers.Activation('relu', name='block1_conv2_act')(x)\n",
        "\n",
        "    residual = layers.Conv2D(128, (1, 1),\n",
        "                             strides=(2, 2),\n",
        "                             padding='same',\n",
        "                             use_bias=False)(x)\n",
        "    residual = layers.BatchNormalization(axis=channel_axis)(residual)\n",
        "\n",
        "    x = layers.SeparableConv2D(128, (3, 3),\n",
        "                               padding='same',\n",
        "                               use_bias=False,\n",
        "                               name='block2_sepconv1')(x)\n",
        "    x = layers.BatchNormalization(axis=channel_axis, name='block2_sepconv1_bn')(x)\n",
        "    x = layers.Activation('relu', name='block2_sepconv2_act')(x)\n",
        "    x = layers.SeparableConv2D(128, (3, 3),\n",
        "                               padding='same',\n",
        "                               use_bias=False,\n",
        "                               name='block2_sepconv2')(x)\n",
        "    x = layers.BatchNormalization(axis=channel_axis, name='block2_sepconv2_bn')(x)\n",
        "\n",
        "    x = layers.MaxPooling2D((3, 3),\n",
        "                            strides=(2, 2),\n",
        "                            padding='same',\n",
        "                            name='block2_pool')(x)\n",
        "    x = layers.add([x, residual])\n",
        "\n",
        "    residual = layers.Conv2D(256, (1, 1), strides=(2, 2),\n",
        "                             padding='same', use_bias=False)(x)\n",
        "    residual = layers.BatchNormalization(axis=channel_axis)(residual)\n",
        "\n",
        "    x = layers.Activation('relu', name='block3_sepconv1_act')(x)\n",
        "    x = layers.SeparableConv2D(256, (3, 3),\n",
        "                               padding='same',\n",
        "                               use_bias=False,\n",
        "                               name='block3_sepconv1')(x)\n",
        "    x = layers.BatchNormalization(axis=channel_axis, name='block3_sepconv1_bn')(x)\n",
        "    x = layers.Activation('relu', name='block3_sepconv2_act')(x)\n",
        "    x = layers.SeparableConv2D(256, (3, 3),\n",
        "                               padding='same',\n",
        "                               use_bias=False,\n",
        "                               name='block3_sepconv2')(x)\n",
        "    x = layers.BatchNormalization(axis=channel_axis, name='block3_sepconv2_bn')(x)\n",
        "\n",
        "    x = layers.MaxPooling2D((3, 3), strides=(2, 2),\n",
        "                            padding='same',\n",
        "                            name='block3_pool')(x)\n",
        "    x = layers.add([x, residual])\n",
        "\n",
        "    residual = layers.Conv2D(728, (1, 1),\n",
        "                             strides=(2, 2),\n",
        "                             padding='same',\n",
        "                             use_bias=False)(x)\n",
        "    residual = layers.BatchNormalization(axis=channel_axis)(residual)\n",
        "\n",
        "    x = layers.Activation('relu', name='block4_sepconv1_act')(x)\n",
        "    x = layers.SeparableConv2D(728, (3, 3),\n",
        "                               padding='same',\n",
        "                               use_bias=False,\n",
        "                               name='block4_sepconv1')(x)\n",
        "    x = layers.BatchNormalization(axis=channel_axis, name='block4_sepconv1_bn')(x)\n",
        "    x = layers.Activation('relu', name='block4_sepconv2_act')(x)\n",
        "    x = layers.SeparableConv2D(728, (3, 3),\n",
        "                               padding='same',\n",
        "                               use_bias=False,\n",
        "                               name='block4_sepconv2')(x)\n",
        "    x = layers.BatchNormalization(axis=channel_axis, name='block4_sepconv2_bn')(x)\n",
        "\n",
        "    x = layers.MaxPooling2D((3, 3), strides=(2, 2),\n",
        "                            padding='same',\n",
        "                            name='block4_pool')(x)\n",
        "    x = layers.add([x, residual])\n",
        "\n",
        "    for i in range(8):\n",
        "        residual = x\n",
        "        prefix = 'block' + str(i + 5)\n",
        "\n",
        "        x = layers.Activation('relu', name=prefix + '_sepconv1_act')(x)\n",
        "        x = layers.SeparableConv2D(728, (3, 3),\n",
        "                                   padding='same',\n",
        "                                   use_bias=False,\n",
        "                                   name=prefix + '_sepconv1')(x)\n",
        "        x = layers.BatchNormalization(axis=channel_axis,\n",
        "                                      name=prefix + '_sepconv1_bn')(x)\n",
        "        x = layers.Activation('relu', name=prefix + '_sepconv2_act')(x)\n",
        "        x = layers.SeparableConv2D(728, (3, 3),\n",
        "                                   padding='same',\n",
        "                                   use_bias=False,\n",
        "                                   name=prefix + '_sepconv2')(x)\n",
        "        x = layers.BatchNormalization(axis=channel_axis,\n",
        "                                      name=prefix + '_sepconv2_bn')(x)\n",
        "        x = layers.Activation('relu', name=prefix + '_sepconv3_act')(x)\n",
        "        x = layers.SeparableConv2D(728, (3, 3),\n",
        "                                   padding='same',\n",
        "                                   use_bias=False,\n",
        "                                   name=prefix + '_sepconv3')(x)\n",
        "        x = layers.BatchNormalization(axis=channel_axis,\n",
        "                                      name=prefix + '_sepconv3_bn')(x)\n",
        "\n",
        "        x = layers.add([x, residual])\n",
        "\n",
        "    residual = layers.Conv2D(1024, (1, 1), strides=(2, 2),\n",
        "                             padding='same', use_bias=False)(x)\n",
        "    residual = layers.BatchNormalization(axis=channel_axis)(residual)\n",
        "\n",
        "    x = layers.Activation('relu', name='block13_sepconv1_act')(x)\n",
        "    x = layers.SeparableConv2D(728, (3, 3),\n",
        "                               padding='same',\n",
        "                               use_bias=False,\n",
        "                               name='block13_sepconv1')(x)\n",
        "    x = layers.BatchNormalization(axis=channel_axis, name='block13_sepconv1_bn')(x)\n",
        "    x = layers.Activation('relu', name='block13_sepconv2_act')(x)\n",
        "    x = layers.SeparableConv2D(1024, (3, 3),\n",
        "                               padding='same',\n",
        "                               use_bias=False,\n",
        "                               name='block13_sepconv2')(x)\n",
        "    x = layers.BatchNormalization(axis=channel_axis, name='block13_sepconv2_bn')(x)\n",
        "\n",
        "    x = layers.MaxPooling2D((3, 3),\n",
        "                            strides=(2, 2),\n",
        "                            padding='same',\n",
        "                            name='block13_pool')(x)\n",
        "    x = layers.add([x, residual])\n",
        "\n",
        "    x = layers.SeparableConv2D(1536, (3, 3),\n",
        "                               padding='same',\n",
        "                               use_bias=False,\n",
        "                               name='block14_sepconv1')(x)\n",
        "    x = layers.BatchNormalization(axis=channel_axis, name='block14_sepconv1_bn')(x)\n",
        "    x = layers.Activation('relu', name='block14_sepconv1_act')(x)\n",
        "\n",
        "    x = layers.SeparableConv2D(2048, (3, 3),\n",
        "                               padding='same',\n",
        "                               use_bias=False,\n",
        "                               name='block14_sepconv2')(x)\n",
        "    x = layers.BatchNormalization(axis=channel_axis, name='block14_sepconv2_bn')(x)\n",
        "    x = layers.Activation('relu', name='block14_sepconv2_act')(x)\n",
        "\n",
        "    # if include_top:\n",
        "    #     x = layers.GlobalAveragePooling2D(name='avg_pool')(x)\n",
        "    #     x = layers.Dense(classes, activation='softmax', name='predictions')(x)\n",
        "\n",
        "    x = layers.GlobalMaxPooling2D()(x)\n",
        "\n",
        "    # Ensure that the model takes into account\n",
        "    # any potential predecessors of `input_tensor`.\n",
        "    inputs = img_input\n",
        "    # Create model.\n",
        "    model = models.Model(inputs, x, name='xception')\n",
        "\n",
        "    # Load weights.\n",
        "    if weights == 'imagenet':\n",
        "        weights_path = TF_WEIGHTS_PATH_NO_TOP\n",
        "        model.load_weights(weights_path)\n",
        "    elif weights is not None:\n",
        "        model.load_weights(weights)\n",
        "\n",
        "    # Set the layers to be non-trainable\n",
        "    for layer in range(len(model.layers) - 1):\n",
        "        if isinstance(model.layers[layer], (layers.BatchNormalization, layers.Conv2D, layers.SeparableConv2D)):\n",
        "            model.layers[layer].trainable = False\n",
        "    return model"
      ]
    },
    {
      "cell_type": "code",
      "execution_count": null,
      "metadata": {
        "id": "srSWw9edSJiu"
      },
      "outputs": [],
      "source": []
    },
    {
      "cell_type": "code",
      "execution_count": null,
      "metadata": {
        "id": "n79mkrKmSJSP"
      },
      "outputs": [],
      "source": []
    },
    {
      "cell_type": "code",
      "execution_count": null,
      "metadata": {
        "id": "VpFnWnqSRQZC"
      },
      "outputs": [],
      "source": []
    },
    {
      "cell_type": "markdown",
      "metadata": {
        "id": "NALJ_JylhhPw"
      },
      "source": [
        "# Alex Net"
      ]
    },
    {
      "cell_type": "code",
      "execution_count": null,
      "metadata": {
        "id": "FjhC-4q4hj9A"
      },
      "outputs": [],
      "source": [
        "def buildAlexNet(inputs):\n",
        "    y = Conv2D(filters=96, kernel_size=(11,11), strides=(4,4), activation='relu', input_shape=(227,227,3))(inputs)\n",
        "    y = BatchNormalization()(y)\n",
        "    y = MaxPool2D(pool_size=(3,3), strides=(2,2))(y)\n",
        "    y = Conv2D(filters=256, kernel_size=(5,5), strides=(1,1), activation='relu', padding=\"same\")(y)\n",
        "    y = BatchNormalization()(y)\n",
        "    y = MaxPool2D(pool_size=(3,3), strides=(2,2))(y)\n",
        "    y = Conv2D(filters=384, kernel_size=(3,3), strides=(1,1), activation='relu', padding=\"same\")(y)\n",
        "    y = BatchNormalization()(y)\n",
        "    y = Conv2D(filters=384, kernel_size=(1,1), strides=(1,1), activation='relu', padding=\"same\")(y)\n",
        "    y = BatchNormalization()(y)\n",
        "    y = Conv2D(filters=256, kernel_size=(1,1), strides=(1,1), activation='relu', padding=\"same\")(y)\n",
        "    y = BatchNormalization()(y)\n",
        "    y = MaxPool2D(pool_size=(3,3), strides=(2,2))(y)\n",
        "    y = Flatten()(y)\n",
        "    y = Dense(4096, activation='relu')(y)\n",
        "    y = Dropout(0.5)(y)\n",
        "    y = Dense(4096, activation='relu')(y)\n",
        "    y = Dropout(0.5)(y)\n",
        "    return y\n"
      ]
    },
    {
      "cell_type": "code",
      "execution_count": null,
      "metadata": {
        "id": "CRR0J_zKhj6S"
      },
      "outputs": [],
      "source": [
        "def buildXception(inputs):\n",
        "\n",
        "    channel_axis = -1\n",
        "    x = Conv2D(32, (3, 3),\n",
        "                      strides=(2, 2),\n",
        "                      use_bias=False,\n",
        "                      name='block1_conv1')(inputs)\n",
        "    x = BatchNormalization(axis=channel_axis, name='block1_conv1_bn')(x)\n",
        "    x = Activation('relu', name='block1_conv1_act')(x)\n",
        "    x = Conv2D(64, (3, 3), use_bias=False, name='block1_conv2')(x)\n",
        "    x = BatchNormalization(axis=channel_axis, name='block1_conv2_bn')(x)\n",
        "    x = Activation('relu', name='block1_conv2_act')(x)\n",
        "\n",
        "    residual = Conv2D(128, (1, 1),\n",
        "                             strides=(2, 2),\n",
        "                             padding='same',\n",
        "                             use_bias=False)(x)\n",
        "    residual = BatchNormalization(axis=channel_axis)(residual)\n",
        "\n",
        "    x = SeparableConv2D(128, (3, 3),\n",
        "                               padding='same',\n",
        "                               use_bias=False,\n",
        "                               name='block2_sepconv1')(x)\n",
        "    x = BatchNormalization(axis=channel_axis, name='block2_sepconv1_bn')(x)\n",
        "    x = Activation('relu', name='block2_sepconv2_act')(x)\n",
        "    x = SeparableConv2D(128, (3, 3),\n",
        "                               padding='same',\n",
        "                               use_bias=False,\n",
        "                               name='block2_sepconv2')(x)\n",
        "    x = BatchNormalization(axis=channel_axis, name='block2_sepconv2_bn')(x)\n",
        "\n",
        "    x = MaxPooling2D((3, 3),\n",
        "                            strides=(2, 2),\n",
        "                            padding='same',\n",
        "                            name='block2_pool')(x)\n",
        "    x = add([x, residual])\n",
        "\n",
        "    residual = Conv2D(256, (1, 1), strides=(2, 2),\n",
        "                             padding='same', use_bias=False)(x)\n",
        "    residual = BatchNormalization(axis=channel_axis)(residual)\n",
        "\n",
        "    x = Activation('relu', name='block3_sepconv1_act')(x)\n",
        "    x = SeparableConv2D(256, (3, 3),\n",
        "                               padding='same',\n",
        "                               use_bias=False,\n",
        "                               name='block3_sepconv1')(x)\n",
        "    x = BatchNormalization(axis=channel_axis, name='block3_sepconv1_bn')(x)\n",
        "    x = Activation('relu', name='block3_sepconv2_act')(x)\n",
        "    x = SeparableConv2D(256, (3, 3),\n",
        "                               padding='same',\n",
        "                               use_bias=False,\n",
        "                               name='block3_sepconv2')(x)\n",
        "    x = BatchNormalization(axis=channel_axis, name='block3_sepconv2_bn')(x)\n",
        "\n",
        "    x = MaxPooling2D((3, 3), strides=(2, 2),\n",
        "                            padding='same',\n",
        "                            name='block3_pool')(x)\n",
        "    x = add([x, residual])\n",
        "\n",
        "    residual = Conv2D(728, (1, 1),\n",
        "                             strides=(2, 2),\n",
        "                             padding='same',\n",
        "                             use_bias=False)(x)\n",
        "    residual = BatchNormalization(axis=channel_axis)(residual)\n",
        "\n",
        "    x = Activation('relu', name='block4_sepconv1_act')(x)\n",
        "    x = SeparableConv2D(728, (3, 3),\n",
        "                               padding='same',\n",
        "                               use_bias=False,\n",
        "                               name='block4_sepconv1')(x)\n",
        "    x = BatchNormalization(axis=channel_axis, name='block4_sepconv1_bn')(x)\n",
        "    x = Activation('relu', name='block4_sepconv2_act')(x)\n",
        "    x = SeparableConv2D(728, (3, 3),\n",
        "                               padding='same',\n",
        "                               use_bias=False,\n",
        "                               name='block4_sepconv2')(x)\n",
        "    x = BatchNormalization(axis=channel_axis, name='block4_sepconv2_bn')(x)\n",
        "\n",
        "    x = MaxPooling2D((3, 3), strides=(2, 2),\n",
        "                            padding='same',\n",
        "                            name='block4_pool')(x)\n",
        "    x = add([x, residual])\n",
        "\n",
        "    for i in range(8):\n",
        "        residual = x\n",
        "        prefix = 'block' + str(i + 5)\n",
        "\n",
        "        x = Activation('relu', name=prefix + '_sepconv1_act')(x)\n",
        "        x = SeparableConv2D(728, (3, 3),\n",
        "                                   padding='same',\n",
        "                                   use_bias=False,\n",
        "                                   name=prefix + '_sepconv1')(x)\n",
        "        x = BatchNormalization(axis=channel_axis,\n",
        "                                      name=prefix + '_sepconv1_bn')(x)\n",
        "        x = Activation('relu', name=prefix + '_sepconv2_act')(x)\n",
        "        x = SeparableConv2D(728, (3, 3),\n",
        "                                   padding='same',\n",
        "                                   use_bias=False,\n",
        "                                   name=prefix + '_sepconv2')(x)\n",
        "        x = BatchNormalization(axis=channel_axis,\n",
        "                                      name=prefix + '_sepconv2_bn')(x)\n",
        "        x = Activation('relu', name=prefix + '_sepconv3_act')(x)\n",
        "        x = SeparableConv2D(728, (3, 3),\n",
        "                                   padding='same',\n",
        "                                   use_bias=False,\n",
        "                                   name=prefix + '_sepconv3')(x)\n",
        "        x = BatchNormalization(axis=channel_axis,\n",
        "                                      name=prefix + '_sepconv3_bn')(x)\n",
        "\n",
        "        x = add([x, residual])\n",
        "\n",
        "    residual = Conv2D(1024, (1, 1), strides=(2, 2),\n",
        "                             padding='same', use_bias=False)(x)\n",
        "    residual = BatchNormalization(axis=channel_axis)(residual)\n",
        "\n",
        "    x = Activation('relu', name='block13_sepconv1_act')(x)\n",
        "    x = SeparableConv2D(728, (3, 3),\n",
        "                               padding='same',\n",
        "                               use_bias=False,\n",
        "                               name='block13_sepconv1')(x)\n",
        "    x = BatchNormalization(axis=channel_axis, name='block13_sepconv1_bn')(x)\n",
        "    x = Activation('relu', name='block13_sepconv2_act')(x)\n",
        "    x = SeparableConv2D(1024, (3, 3),\n",
        "                               padding='same',\n",
        "                               use_bias=False,\n",
        "                               name='block13_sepconv2')(x)\n",
        "    x = BatchNormalization(axis=channel_axis, name='block13_sepconv2_bn')(x)\n",
        "\n",
        "    x = MaxPooling2D((3, 3),\n",
        "                            strides=(2, 2),\n",
        "                            padding='same',\n",
        "                            name='block13_pool')(x)\n",
        "    x = add([x, residual])\n",
        "\n",
        "    x = SeparableConv2D(1536, (3, 3),\n",
        "                               padding='same',\n",
        "                               use_bias=False,\n",
        "                               name='block14_sepconv1')(x)\n",
        "    x = BatchNormalization(axis=channel_axis, name='block14_sepconv1_bn')(x)\n",
        "    x = Activation('relu', name='block14_sepconv1_act')(x)\n",
        "\n",
        "    x = SeparableConv2D(2048, (3, 3),\n",
        "                               padding='same',\n",
        "                               use_bias=False,\n",
        "                               name='block14_sepconv2')(x)\n",
        "    x = BatchNormalization(axis=channel_axis, name='block14_sepconv2_bn')(x)\n",
        "    x = Activation('relu', name='block14_sepconv2_act')(x)\n",
        "    x = GlobalMaxPooling2D()(x)\n",
        "    x = Flatten()(x)\n",
        "    return x"
      ]
    },
    {
      "cell_type": "code",
      "execution_count": null,
      "metadata": {
        "id": "KcTTJDF-hj4q"
      },
      "outputs": [],
      "source": []
    },
    {
      "cell_type": "code",
      "execution_count": null,
      "metadata": {
        "id": "2tfWtpKHhjz6"
      },
      "outputs": [],
      "source": []
    },
    {
      "cell_type": "markdown",
      "metadata": {
        "id": "jsdLDDRYklBs"
      },
      "source": [
        "# Hybridization"
      ]
    },
    {
      "cell_type": "code",
      "execution_count": null,
      "metadata": {
        "colab": {
          "base_uri": "https://localhost:8080/"
        },
        "id": "00eWkn6YyPhn",
        "outputId": "71fbe433-caf6-480f-dbfc-00a467b0263e"
      },
      "outputs": [
        {
          "output_type": "stream",
          "name": "stdout",
          "text": [
            "Found 40 images belonging to 2 classes.\n",
            "4/4 [==============================] - 13s 2s/step\n"
          ]
        }
      ],
      "source": [
        "with tf.device('/GPU:0'):\n",
        "    xception = Xception()\n",
        "    train = ImageDataGenerator(rescale=1/255.0)\n",
        "    trainset = train.flow_from_directory(\n",
        "        '/content/drive/MyDrive/Colab Notebooks/ForgeryDetection/fold',\n",
        "        target_size=(256, 256),\n",
        "        batch_size=10\n",
        "    )\n",
        "    features = xception.predict(trainset)"
      ]
    },
    {
      "cell_type": "code",
      "execution_count": null,
      "metadata": {
        "colab": {
          "base_uri": "https://localhost:8080/"
        },
        "id": "Nw9JukFkzpgD",
        "outputId": "1a86d846-700e-4016-d807-7c7703322ad5"
      },
      "outputs": [
        {
          "data": {
            "text/plain": [
              "(3998, 2048)"
            ]
          },
          "execution_count": 15,
          "metadata": {},
          "output_type": "execute_result"
        }
      ],
      "source": [
        "features.shape"
      ]
    },
    {
      "cell_type": "code",
      "execution_count": null,
      "metadata": {
        "id": "-kTP_wbQzpdS"
      },
      "outputs": [],
      "source": []
    },
    {
      "cell_type": "code",
      "execution_count": null,
      "metadata": {
        "id": "1wKhyekshjor"
      },
      "outputs": [],
      "source": [
        "def buildXANet():\n",
        "    # input layer\n",
        "\n",
        "    inputs = Input(shape=(256, 256, 3))\n",
        "\n",
        "    # SOTA Xception and AlexNet\n",
        "    x = buildXception(inputs=inputs)\n",
        "    y = buildAlexNet(inputs=inputs)\n",
        "\n",
        "    # DNN\n",
        "    z = layers.concatenate([x,y], axis=-1)\n",
        "    z = Dense(1024, activation='relu')(z)\n",
        "    z = Dropout(0.5)(z)\n",
        "    z = Dense(1024, activation='leaky_relu')(z)\n",
        "    z = Dropout(0.5)(z)\n",
        "    z = Dense(2, activation='softmax')(z)\n",
        "\n",
        "    # Model\n",
        "    model = Model(inputs, z, name='XANet')\n",
        "\n",
        "    return model"
      ]
    },
    {
      "cell_type": "code",
      "execution_count": null,
      "metadata": {
        "id": "0z9Daaumhjmc"
      },
      "outputs": [],
      "source": [
        "batch_size=64"
      ]
    },
    {
      "cell_type": "code",
      "execution_count": null,
      "metadata": {
        "colab": {
          "base_uri": "https://localhost:8080/"
        },
        "id": "BT9GlevahjcH",
        "outputId": "b597995f-77c3-4bee-b897-092a101bf5cb"
      },
      "outputs": [
        {
          "output_type": "stream",
          "name": "stdout",
          "text": [
            "Found 88 images belonging to 2 classes.\n",
            "Epoch 1/50\n",
            "3/3 [==============================] - 52s 4s/step - loss: 2.9591 - accuracy: 0.4432\n",
            "Epoch 2/50\n",
            "3/3 [==============================] - 2s 590ms/step - loss: 2.3239 - accuracy: 0.5909\n",
            "Epoch 3/50\n",
            "3/3 [==============================] - 2s 676ms/step - loss: 3.0854 - accuracy: 0.5341\n",
            "Epoch 4/50\n",
            "3/3 [==============================] - 2s 593ms/step - loss: 2.7320 - accuracy: 0.5341\n",
            "Epoch 5/50\n",
            "3/3 [==============================] - 2s 616ms/step - loss: 3.0258 - accuracy: 0.4432\n",
            "Epoch 6/50\n",
            "3/3 [==============================] - 2s 583ms/step - loss: 2.3731 - accuracy: 0.5795\n",
            "Epoch 7/50\n",
            "3/3 [==============================] - 2s 577ms/step - loss: 2.8757 - accuracy: 0.5682\n",
            "Epoch 8/50\n",
            "3/3 [==============================] - 2s 573ms/step - loss: 2.6163 - accuracy: 0.5568\n",
            "Epoch 9/50\n",
            "3/3 [==============================] - 2s 572ms/step - loss: 3.3311 - accuracy: 0.5682\n",
            "Epoch 10/50\n",
            "3/3 [==============================] - 2s 743ms/step - loss: 2.7410 - accuracy: 0.5909\n",
            "Epoch 11/50\n",
            "3/3 [==============================] - 2s 730ms/step - loss: 2.5479 - accuracy: 0.5795\n",
            "Epoch 12/50\n",
            "3/3 [==============================] - 2s 646ms/step - loss: 2.1108 - accuracy: 0.5795\n",
            "Epoch 13/50\n",
            "3/3 [==============================] - 2s 562ms/step - loss: 2.7092 - accuracy: 0.5909\n",
            "Epoch 14/50\n",
            "3/3 [==============================] - 2s 559ms/step - loss: 2.0321 - accuracy: 0.6136\n",
            "Epoch 15/50\n",
            "3/3 [==============================] - 2s 635ms/step - loss: 2.1195 - accuracy: 0.5795\n",
            "Epoch 16/50\n",
            "3/3 [==============================] - 2s 620ms/step - loss: 1.7276 - accuracy: 0.6136\n",
            "Epoch 17/50\n",
            "3/3 [==============================] - 2s 564ms/step - loss: 1.1224 - accuracy: 0.7500\n",
            "Epoch 18/50\n",
            "3/3 [==============================] - 2s 560ms/step - loss: 1.0132 - accuracy: 0.6818\n",
            "Epoch 19/50\n",
            "3/3 [==============================] - 2s 632ms/step - loss: 1.6561 - accuracy: 0.6250\n",
            "Epoch 20/50\n",
            "3/3 [==============================] - 2s 559ms/step - loss: 0.7502 - accuracy: 0.7727\n",
            "Epoch 21/50\n",
            "3/3 [==============================] - 2s 631ms/step - loss: 0.6684 - accuracy: 0.8295\n",
            "Epoch 22/50\n",
            "3/3 [==============================] - 2s 649ms/step - loss: 1.2502 - accuracy: 0.7273\n",
            "Epoch 23/50\n",
            "3/3 [==============================] - 2s 560ms/step - loss: 1.2025 - accuracy: 0.7273\n",
            "Epoch 24/50\n",
            "3/3 [==============================] - 2s 558ms/step - loss: 0.7528 - accuracy: 0.8182\n",
            "Epoch 25/50\n",
            "3/3 [==============================] - 2s 562ms/step - loss: 0.9419 - accuracy: 0.8182\n",
            "Epoch 26/50\n",
            "3/3 [==============================] - 2s 640ms/step - loss: 0.5866 - accuracy: 0.8523\n",
            "Epoch 27/50\n",
            "3/3 [==============================] - 2s 564ms/step - loss: 0.8005 - accuracy: 0.8409\n",
            "Epoch 28/50\n",
            "3/3 [==============================] - 2s 567ms/step - loss: 0.4661 - accuracy: 0.8523\n",
            "Epoch 29/50\n",
            "3/3 [==============================] - 2s 583ms/step - loss: 0.5004 - accuracy: 0.8523\n",
            "Epoch 30/50\n",
            "3/3 [==============================] - 2s 640ms/step - loss: 0.6296 - accuracy: 0.8864\n",
            "Epoch 31/50\n",
            "3/3 [==============================] - 2s 641ms/step - loss: 0.5629 - accuracy: 0.8409\n",
            "Epoch 32/50\n",
            "3/3 [==============================] - 2s 570ms/step - loss: 0.5769 - accuracy: 0.8523\n",
            "Epoch 33/50\n",
            "3/3 [==============================] - 2s 567ms/step - loss: 0.3093 - accuracy: 0.9205\n",
            "Epoch 34/50\n",
            "3/3 [==============================] - 2s 644ms/step - loss: 0.1480 - accuracy: 0.9432\n",
            "Epoch 35/50\n",
            "3/3 [==============================] - 2s 628ms/step - loss: 0.5246 - accuracy: 0.9091\n",
            "Epoch 36/50\n",
            "3/3 [==============================] - 2s 641ms/step - loss: 0.4805 - accuracy: 0.8864\n",
            "Epoch 37/50\n",
            "3/3 [==============================] - 2s 572ms/step - loss: 0.2502 - accuracy: 0.9545\n",
            "Epoch 38/50\n",
            "3/3 [==============================] - 2s 643ms/step - loss: 0.2738 - accuracy: 0.9318\n",
            "Epoch 39/50\n",
            "3/3 [==============================] - 2s 571ms/step - loss: 0.5014 - accuracy: 0.8409\n",
            "Epoch 40/50\n",
            "3/3 [==============================] - 2s 574ms/step - loss: 0.1951 - accuracy: 0.9318\n",
            "Epoch 41/50\n",
            "3/3 [==============================] - 2s 710ms/step - loss: 0.2188 - accuracy: 0.9545\n",
            "Epoch 42/50\n",
            "3/3 [==============================] - 2s 574ms/step - loss: 0.3189 - accuracy: 0.9091\n",
            "Epoch 43/50\n",
            "3/3 [==============================] - 2s 652ms/step - loss: 0.2693 - accuracy: 0.8977\n",
            "Epoch 44/50\n",
            "3/3 [==============================] - 2s 644ms/step - loss: 0.5008 - accuracy: 0.8977\n",
            "Epoch 45/50\n",
            "3/3 [==============================] - 2s 566ms/step - loss: 0.3268 - accuracy: 0.8750\n",
            "Epoch 46/50\n",
            "3/3 [==============================] - 2s 568ms/step - loss: 0.3180 - accuracy: 0.8977\n",
            "Epoch 47/50\n",
            "3/3 [==============================] - 2s 641ms/step - loss: 0.2058 - accuracy: 0.9659\n",
            "Epoch 48/50\n",
            "3/3 [==============================] - 2s 727ms/step - loss: 0.2417 - accuracy: 0.9318\n",
            "Epoch 49/50\n",
            "3/3 [==============================] - 2s 563ms/step - loss: 0.1335 - accuracy: 0.9432\n",
            "Epoch 50/50\n",
            "3/3 [==============================] - 2s 638ms/step - loss: 0.3418 - accuracy: 0.9318\n"
          ]
        }
      ],
      "source": [
        "with tf.device('/GPU:0'):\n",
        "    # Model\n",
        "    model = buildXANet()\n",
        "\n",
        "    # Dataloader\n",
        "    train = ImageDataGenerator(rescale=1/255.0)\n",
        "    trainset = train.flow_from_directory(\n",
        "        '/content/drive/MyDrive/Colab Notebooks/ForgeryDetection/fold',\n",
        "        target_size=(256, 256),\n",
        "        batch_size=32\n",
        "    )\n",
        "\n",
        "    # Training\n",
        "    opt = Adam(\n",
        "        learning_rate=0.0001,\n",
        "    )\n",
        "    model.compile(optimizer=opt, loss='categorical_crossentropy', metrics=['accuracy'])\n",
        "    model.fit(trainset, epochs=50)"
      ]
    },
    {
      "cell_type": "code",
      "source": [
        "model.summary()"
      ],
      "metadata": {
        "id": "UP6d8DQXmlOE"
      },
      "execution_count": null,
      "outputs": []
    },
    {
      "cell_type": "code",
      "source": [],
      "metadata": {
        "id": "AjLIAoIKmlKu"
      },
      "execution_count": null,
      "outputs": []
    },
    {
      "cell_type": "markdown",
      "metadata": {
        "id": "pWVyzfZJ3jaP"
      },
      "source": []
    },
    {
      "cell_type": "code",
      "execution_count": null,
      "metadata": {
        "id": "NYB23YfthjZl"
      },
      "outputs": [],
      "source": []
    },
    {
      "cell_type": "code",
      "execution_count": null,
      "metadata": {
        "id": "QGfQcmUehjW2"
      },
      "outputs": [],
      "source": []
    },
    {
      "cell_type": "markdown",
      "metadata": {
        "id": "S-u-98c2mWva"
      },
      "source": [
        "# _**ViT**_\n",
        "\n",
        "\n"
      ]
    },
    {
      "cell_type": "code",
      "execution_count": null,
      "metadata": {
        "id": "YKNxc3KTmVta"
      },
      "outputs": [],
      "source": [
        "num_classes = 2\n",
        "input_shape = (256, 256, 3)\n",
        "\n",
        "learning_rate = 0.001\n",
        "weight_decay = 0.0001\n",
        "batch_size = 32\n",
        "num_epochs = 25\n",
        "image_size = 256  # We'll resize input images to this size\n",
        "patch_size = 6  # Size of the patches to be extract from the input images\n",
        "num_patches = (image_size // patch_size) ** 2\n",
        "projection_dim = 64\n",
        "num_heads = 4\n",
        "transformer_units = [\n",
        "    projection_dim * 2,\n",
        "    projection_dim,\n",
        "]  # Size of the transformer layers\n",
        "transformer_layers = 8\n",
        "mlp_head_units = [2048, 1024]  # Size of the dense layers of the final classifier"
      ]
    },
    {
      "cell_type": "code",
      "execution_count": null,
      "metadata": {
        "id": "2s-7G7KemVoC"
      },
      "outputs": [],
      "source": [
        "class Patches(Layer):\n",
        "    def __init__(self, patch_size):\n",
        "        super().__init__()\n",
        "        self.patch_size = patch_size\n",
        "\n",
        "    def call(self, images):\n",
        "        batch_size = tf.shape(images)[0]\n",
        "        patches = tf.image.extract_patches(\n",
        "            images=images,\n",
        "            sizes=[1, self.patch_size, self.patch_size, 1],\n",
        "            strides=[1, self.patch_size, self.patch_size, 1],\n",
        "            rates=[1, 1, 1, 1],\n",
        "            padding=\"VALID\",\n",
        "        )\n",
        "        patch_dims = patches.shape[-1]\n",
        "        patches = tf.reshape(patches, [batch_size, -1, patch_dims])\n",
        "        return patches"
      ]
    },
    {
      "cell_type": "code",
      "execution_count": null,
      "metadata": {
        "id": "XENzxP7Ropxd"
      },
      "outputs": [],
      "source": [
        "class PatchEncoder(Layer):\n",
        "    def __init__(self, num_patches, projection_dim):\n",
        "        super().__init__()\n",
        "        self.num_patches = num_patches\n",
        "        self.projection = Dense(units=projection_dim)\n",
        "        self.position_embedding = Embedding(\n",
        "            input_dim=num_patches, output_dim=projection_dim\n",
        "        )\n",
        "\n",
        "    def call(self, patch):\n",
        "        positions = tf.range(start=0, limit=self.num_patches, delta=1)\n",
        "        encoded = self.projection(patch) + self.position_embedding(positions)\n",
        "        return encoded"
      ]
    },
    {
      "cell_type": "code",
      "execution_count": null,
      "metadata": {
        "id": "4iFgB_MZmVhS"
      },
      "outputs": [],
      "source": [
        "def MLP(x, hidden_units, dropout_rate):\n",
        "    for units in hidden_units:\n",
        "        x = Dense(units, activation=tf.nn.gelu)(x)\n",
        "        x = Dropout(dropout_rate)(x)\n",
        "    return x"
      ]
    },
    {
      "cell_type": "code",
      "execution_count": null,
      "metadata": {
        "id": "-eo45dJvpkBs"
      },
      "outputs": [],
      "source": [
        "def ModelViT():\n",
        "    inputs = Input(shape=input_shape)\n",
        "\n",
        "    # Create patches & Encode patches.\n",
        "    patches = Patches(patch_size)(input)\n",
        "    encoded_patches = PatchEncoder(num_patches, projection_dim)(patches)\n",
        "\n",
        "    # Create multiple layers of the Transformer block.\n",
        "    for _ in range(transformer_layers):\n",
        "\n",
        "        # Layer normalization 1.\n",
        "        x1 = LayerNormalization(epsilon=1e-6)(encoded_patches)\n",
        "\n",
        "        # Create a multi-head attention layer.\n",
        "        attention_output = MultiHeadAttention(\n",
        "            num_heads=num_heads, key_dim=projection_dim, dropout=0.1\n",
        "        )(x1, x1)\n",
        "\n",
        "        # Skip connection 1.\n",
        "        x2 = Add()([attention_output, encoded_patches])\n",
        "\n",
        "        # Layer normalization 2.\n",
        "        x3 = LayerNormalization(epsilon=1e-6)(x2)\n",
        "\n",
        "        # MLP.\n",
        "        x3 = MLP(x3, hidden_units=transformer_units, dropout_rate=0.1)\n",
        "\n",
        "        # Skip connection 2.\n",
        "        encoded_patches = Add()([x3, x2])\n",
        "\n",
        "    # Create a [batch_size, projection_dim] tensor.\n",
        "    representation = LayerNormalization(epsilon=1e-6)(encoded_patches)\n",
        "    representation = Flatten()(representation)\n",
        "    representation = Dropout(0.5)(representation)\n",
        "\n",
        "    # MLP.\n",
        "    features = MLP(representation, hidden_units=mlp_head_units, dropout_rate=0.5)\n",
        "    logits = Dense(num_classes)(features)\n",
        "\n",
        "    # Create the Keras model.\n",
        "    model = keras.Model(inputs=inputs, outputs=logits)\n",
        "\n",
        "    return model"
      ]
    },
    {
      "cell_type": "code",
      "execution_count": null,
      "metadata": {
        "id": "2Z-4ReAQ6RLk"
      },
      "outputs": [],
      "source": []
    },
    {
      "cell_type": "code",
      "execution_count": null,
      "metadata": {
        "colab": {
          "base_uri": "https://localhost:8080/",
          "height": 529
        },
        "id": "W7KqY_tsM3fe",
        "outputId": "db011a91-acd3-427b-cac4-04242c22687c"
      },
      "outputs": [
        {
          "output_type": "error",
          "ename": "ValueError",
          "evalue": "ignored",
          "traceback": [
            "\u001b[0;31m---------------------------------------------------------------------------\u001b[0m",
            "\u001b[0;31mValueError\u001b[0m                                Traceback (most recent call last)",
            "\u001b[0;32m<ipython-input-58-c95288e2e1bc>\u001b[0m in \u001b[0;36m<cell line: 3>\u001b[0;34m()\u001b[0m\n\u001b[1;32m      3\u001b[0m \u001b[0;32mwith\u001b[0m \u001b[0mtf\u001b[0m\u001b[0;34m.\u001b[0m\u001b[0mdevice\u001b[0m\u001b[0;34m(\u001b[0m\u001b[0;34m'/GPU:0'\u001b[0m\u001b[0;34m)\u001b[0m\u001b[0;34m:\u001b[0m\u001b[0;34m\u001b[0m\u001b[0;34m\u001b[0m\u001b[0m\n\u001b[1;32m      4\u001b[0m     \u001b[0;31m# Model\u001b[0m\u001b[0;34m\u001b[0m\u001b[0;34m\u001b[0m\u001b[0m\n\u001b[0;32m----> 5\u001b[0;31m     \u001b[0mmodel\u001b[0m \u001b[0;34m=\u001b[0m \u001b[0mModelViT\u001b[0m\u001b[0;34m(\u001b[0m\u001b[0;34m)\u001b[0m\u001b[0;34m\u001b[0m\u001b[0;34m\u001b[0m\u001b[0m\n\u001b[0m\u001b[1;32m      6\u001b[0m     \u001b[0mtrain\u001b[0m \u001b[0;34m=\u001b[0m \u001b[0mImageDataGenerator\u001b[0m\u001b[0;34m(\u001b[0m\u001b[0mrescale\u001b[0m\u001b[0;34m=\u001b[0m\u001b[0;36m1\u001b[0m\u001b[0;34m/\u001b[0m\u001b[0;36m255.0\u001b[0m\u001b[0;34m)\u001b[0m\u001b[0;34m\u001b[0m\u001b[0;34m\u001b[0m\u001b[0m\n\u001b[1;32m      7\u001b[0m     trainset = train.flow_from_directory(\n",
            "\u001b[0;32m<ipython-input-57-baec58f871cd>\u001b[0m in \u001b[0;36mModelViT\u001b[0;34m()\u001b[0m\n\u001b[1;32m      3\u001b[0m \u001b[0;34m\u001b[0m\u001b[0m\n\u001b[1;32m      4\u001b[0m     \u001b[0;31m# Create patches & Encode patches.\u001b[0m\u001b[0;34m\u001b[0m\u001b[0;34m\u001b[0m\u001b[0m\n\u001b[0;32m----> 5\u001b[0;31m     \u001b[0mpatches\u001b[0m \u001b[0;34m=\u001b[0m \u001b[0mPatches\u001b[0m\u001b[0;34m(\u001b[0m\u001b[0mpatch_size\u001b[0m\u001b[0;34m)\u001b[0m\u001b[0;34m(\u001b[0m\u001b[0minput\u001b[0m\u001b[0;34m)\u001b[0m\u001b[0;34m\u001b[0m\u001b[0;34m\u001b[0m\u001b[0m\n\u001b[0m\u001b[1;32m      6\u001b[0m     \u001b[0mencoded_patches\u001b[0m \u001b[0;34m=\u001b[0m \u001b[0mPatchEncoder\u001b[0m\u001b[0;34m(\u001b[0m\u001b[0mnum_patches\u001b[0m\u001b[0;34m,\u001b[0m \u001b[0mprojection_dim\u001b[0m\u001b[0;34m)\u001b[0m\u001b[0;34m(\u001b[0m\u001b[0mpatches\u001b[0m\u001b[0;34m)\u001b[0m\u001b[0;34m\u001b[0m\u001b[0;34m\u001b[0m\u001b[0m\n\u001b[1;32m      7\u001b[0m \u001b[0;34m\u001b[0m\u001b[0m\n",
            "\u001b[0;32m/usr/local/lib/python3.10/dist-packages/keras/utils/traceback_utils.py\u001b[0m in \u001b[0;36merror_handler\u001b[0;34m(*args, **kwargs)\u001b[0m\n\u001b[1;32m     68\u001b[0m             \u001b[0;31m# To get the full stack trace, call:\u001b[0m\u001b[0;34m\u001b[0m\u001b[0;34m\u001b[0m\u001b[0m\n\u001b[1;32m     69\u001b[0m             \u001b[0;31m# `tf.debugging.disable_traceback_filtering()`\u001b[0m\u001b[0;34m\u001b[0m\u001b[0;34m\u001b[0m\u001b[0m\n\u001b[0;32m---> 70\u001b[0;31m             \u001b[0;32mraise\u001b[0m \u001b[0me\u001b[0m\u001b[0;34m.\u001b[0m\u001b[0mwith_traceback\u001b[0m\u001b[0;34m(\u001b[0m\u001b[0mfiltered_tb\u001b[0m\u001b[0;34m)\u001b[0m \u001b[0;32mfrom\u001b[0m \u001b[0;32mNone\u001b[0m\u001b[0;34m\u001b[0m\u001b[0;34m\u001b[0m\u001b[0m\n\u001b[0m\u001b[1;32m     71\u001b[0m         \u001b[0;32mfinally\u001b[0m\u001b[0;34m:\u001b[0m\u001b[0;34m\u001b[0m\u001b[0;34m\u001b[0m\u001b[0m\n\u001b[1;32m     72\u001b[0m             \u001b[0;32mdel\u001b[0m \u001b[0mfiltered_tb\u001b[0m\u001b[0;34m\u001b[0m\u001b[0;34m\u001b[0m\u001b[0m\n",
            "\u001b[0;32m<ipython-input-54-fa041072142c>\u001b[0m in \u001b[0;36mcall\u001b[0;34m(self, images)\u001b[0m\n\u001b[1;32m      5\u001b[0m \u001b[0;34m\u001b[0m\u001b[0m\n\u001b[1;32m      6\u001b[0m     \u001b[0;32mdef\u001b[0m \u001b[0mcall\u001b[0m\u001b[0;34m(\u001b[0m\u001b[0mself\u001b[0m\u001b[0;34m,\u001b[0m \u001b[0mimages\u001b[0m\u001b[0;34m)\u001b[0m\u001b[0;34m:\u001b[0m\u001b[0;34m\u001b[0m\u001b[0;34m\u001b[0m\u001b[0m\n\u001b[0;32m----> 7\u001b[0;31m         \u001b[0mbatch_size\u001b[0m \u001b[0;34m=\u001b[0m \u001b[0mtf\u001b[0m\u001b[0;34m.\u001b[0m\u001b[0mshape\u001b[0m\u001b[0;34m(\u001b[0m\u001b[0mimages\u001b[0m\u001b[0;34m)\u001b[0m\u001b[0;34m[\u001b[0m\u001b[0;36m0\u001b[0m\u001b[0;34m]\u001b[0m\u001b[0;34m\u001b[0m\u001b[0;34m\u001b[0m\u001b[0m\n\u001b[0m\u001b[1;32m      8\u001b[0m         patches = tf.image.extract_patches(\n\u001b[1;32m      9\u001b[0m             \u001b[0mimages\u001b[0m\u001b[0;34m=\u001b[0m\u001b[0mimages\u001b[0m\u001b[0;34m,\u001b[0m\u001b[0;34m\u001b[0m\u001b[0;34m\u001b[0m\u001b[0m\n",
            "\u001b[0;31mValueError\u001b[0m: Exception encountered when calling layer 'patches' (type Patches).\n\nAttempt to convert a value (<bound method Kernel.raw_input of <google.colab._kernel.Kernel object at 0x7a17ff0e05e0>>) with an unsupported type (<class 'method'>) to a Tensor.\n\nCall arguments received by layer 'patches' (type Patches):\n  • images=<bound method Kernel.raw_input of <google.colab._kernel.Kernel object at 0x7a17ff0e05e0>>"
          ]
        }
      ],
      "source": [
        "es = EarlyStopping(monitor='accuracy', mode='max', verbose=1, patience=20)\n",
        "\n",
        "with tf.device('/GPU:0'):\n",
        "    # Model\n",
        "    model = ModelViT()\n",
        "    train = ImageDataGenerator(rescale=1/255.0)\n",
        "    trainset = train.flow_from_directory(\n",
        "          '/content/drive/MyDrive/Colab Notebooks/ForgeryDetection/fold',\n",
        "          target_size=(256, 256),\n",
        "          batch_size=32\n",
        "      )\n",
        "    # Training\n",
        "    opt = Adam(learning_rate=0.0001)\n",
        "    model.compile(optimizer=opt, loss='binary_crossentropy', metrics=['accuracy'])\n",
        "    model.fit(trainset, steps_per_epoch=20, epochs=25)"
      ]
    },
    {
      "cell_type": "code",
      "execution_count": null,
      "metadata": {
        "id": "G2gBu8R-M3dG"
      },
      "outputs": [],
      "source": []
    },
    {
      "cell_type": "code",
      "execution_count": null,
      "metadata": {
        "id": "PRcmLqz1M3ad"
      },
      "outputs": [],
      "source": []
    },
    {
      "cell_type": "markdown",
      "metadata": {
        "id": "DfR9LUPsBNNr"
      },
      "source": [
        "# _**XViT Network**_\n"
      ]
    },
    {
      "cell_type": "code",
      "execution_count": null,
      "metadata": {
        "id": "J5reLZpV721x"
      },
      "outputs": [],
      "source": [
        "num_classes = 256\n",
        "input_shape = (256, 256, 3)\n",
        "\n",
        "learning_rate = 0.001\n",
        "weight_decay = 0.0001\n",
        "batch_size = 256\n",
        "num_epochs = 25\n",
        "image_size = 240  # We'll resize input images to this size\n",
        "patch_size = 6  # Size of the patches to be extract from the input images\n",
        "num_patches = (image_size // patch_size) ** 2\n",
        "projection_dim = 64\n",
        "num_heads = 4\n",
        "transformer_units = [\n",
        "    projection_dim * 2,\n",
        "    projection_dim,\n",
        "]  # Size of the transformer layers\n",
        "transformer_layers = 8\n",
        "mlp_head_units = [2048, 1024]  # Size of the dense layers of the final classifier"
      ]
    },
    {
      "cell_type": "code",
      "execution_count": null,
      "metadata": {
        "id": "AmCAYGAA9jb4"
      },
      "outputs": [],
      "source": []
    },
    {
      "cell_type": "code",
      "execution_count": null,
      "metadata": {
        "id": "Lh6OnYRE9jOu"
      },
      "outputs": [],
      "source": [
        "def Xception():\n",
        "    input = Input(shape = input_shape)\n",
        "    tensor, x = PreConv(input)\n",
        "    x = ConvA(tensor, x)\n",
        "    x = ConvB(x)\n",
        "    output = ConvCOut(x)\n",
        "    return  Model(inputs=input, outputs=output)"
      ]
    },
    {
      "cell_type": "code",
      "execution_count": null,
      "metadata": {
        "id": "Z0lxFCkDBRdJ"
      },
      "outputs": [],
      "source": [
        "def ModelXViT():\n",
        "  Xception()"
      ]
    },
    {
      "cell_type": "markdown",
      "metadata": {
        "id": "Bcbu0xH73p07"
      },
      "source": [
        "# NeNet"
      ]
    },
    {
      "cell_type": "code",
      "execution_count": null,
      "metadata": {
        "id": "Y26ZNgk87Opv"
      },
      "outputs": [],
      "source": [
        "batch_size=64\n",
        "steps_per_epoch = 3998//batch_size"
      ]
    },
    {
      "cell_type": "code",
      "execution_count": null,
      "metadata": {
        "id": "uezQR7SK3sDB"
      },
      "outputs": [],
      "source": [
        "def buildNeNet():\n",
        "    # input layer\n",
        "\n",
        "    inputs = Input(shape=(256, 256, 3))\n",
        "\n",
        "    x = Conv2D(64, (3, 3), activation='relu', padding='same', name='conv2d_64_3x3')(inputs)\n",
        "    x = MaxPooling2D((2, 2), strides=(2, 2), name='maxpool_1')(x)\n",
        "    x = Conv2D(128, (5, 5), activation='relu', padding='same', name='conv2d_128_5x5')(x)\n",
        "    x = MaxPooling2D((2, 2), strides=(2, 2), name='maxpool_2')(x)\n",
        "    x = Conv2D(256, (11, 11), activation='relu', padding='same', name='conv2d_256_11x11')(x)\n",
        "    x = MaxPooling2D((2, 2), strides=(2, 2), name='maxpool_3')(x)\n",
        "    x = Conv2D(512, (21, 21), activation='relu', padding='same', name='conv2d_64_21x21')(x)\n",
        "    x = MaxPooling2D((2, 2), strides=(2, 2), name='maxpool_4')(x)\n",
        "    x = BatchNormalization(name='bn_1')(x)\n",
        "    z = Flatten()(x)\n",
        "    # DNN\n",
        "    z = Dense(2048, activation='relu')(z)\n",
        "    z = Dropout(0.5)(z)\n",
        "    z = Dense(2048, activation='relu')(z)\n",
        "    z = Dropout(0.5)(z)\n",
        "    z = Dense(1024, activation='relu')(z)\n",
        "    z = Dense(2, activation='softmax')(z)\n",
        "\n",
        "    # Model\n",
        "    model = Model(inputs, z, name='NeNet')\n",
        "\n",
        "    return model"
      ]
    },
    {
      "cell_type": "code",
      "execution_count": null,
      "metadata": {
        "colab": {
          "base_uri": "https://localhost:8080/",
          "height": 1000
        },
        "id": "u3P76G5_6ttl",
        "outputId": "60842bd3-7f8a-4364-df05-e5b11d9a3bb2"
      },
      "outputs": [
        {
          "output_type": "stream",
          "name": "stdout",
          "text": [
            "Found 88 images belonging to 2 classes.\n",
            "Epoch 1/50\n",
            "3/3 [==============================] - 8s 1s/step - loss: 4.5115 - accuracy: 0.4659\n",
            "Epoch 2/50\n",
            "3/3 [==============================] - 5s 1s/step - loss: 1.5626 - accuracy: 0.5227\n",
            "Epoch 3/50\n",
            "3/3 [==============================] - 5s 1s/step - loss: 2.2851 - accuracy: 0.4773\n",
            "Epoch 4/50\n",
            "3/3 [==============================] - 5s 1s/step - loss: 1.9918 - accuracy: 0.5227\n",
            "Epoch 5/50\n",
            "3/3 [==============================] - 5s 1s/step - loss: 2.1328 - accuracy: 0.4886\n",
            "Epoch 6/50\n",
            "3/3 [==============================] - 5s 2s/step - loss: 2.0746 - accuracy: 0.4773\n",
            "Epoch 7/50\n",
            "3/3 [==============================] - 5s 1s/step - loss: 2.0411 - accuracy: 0.4545\n",
            "Epoch 8/50\n",
            "3/3 [==============================] - 5s 1s/step - loss: 1.5337 - accuracy: 0.4773\n",
            "Epoch 9/50\n",
            "3/3 [==============================] - 5s 1s/step - loss: 1.7441 - accuracy: 0.5568\n",
            "Epoch 10/50\n",
            "3/3 [==============================] - 5s 1s/step - loss: 1.4563 - accuracy: 0.5341\n",
            "Epoch 11/50\n",
            "3/3 [==============================] - 5s 1s/step - loss: 1.4083 - accuracy: 0.5568\n",
            "Epoch 12/50\n",
            "3/3 [==============================] - 4s 1s/step - loss: 1.6616 - accuracy: 0.4773\n",
            "Epoch 13/50\n",
            "3/3 [==============================] - 5s 1s/step - loss: 1.3830 - accuracy: 0.5227\n",
            "Epoch 14/50\n",
            "3/3 [==============================] - 5s 1s/step - loss: 1.6541 - accuracy: 0.5455\n",
            "Epoch 15/50\n",
            "3/3 [==============================] - 4s 1s/step - loss: 1.7675 - accuracy: 0.4318\n",
            "Epoch 16/50\n",
            "3/3 [==============================] - 4s 1s/step - loss: 1.7422 - accuracy: 0.5227\n",
            "Epoch 17/50\n",
            "3/3 [==============================] - 5s 1s/step - loss: 1.6760 - accuracy: 0.4432\n",
            "Epoch 18/50\n",
            "3/3 [==============================] - 5s 1s/step - loss: 1.2988 - accuracy: 0.6364\n",
            "Epoch 19/50\n",
            "3/3 [==============================] - 4s 1s/step - loss: 1.6422 - accuracy: 0.5000\n",
            "Epoch 20/50\n",
            "3/3 [==============================] - 5s 1s/step - loss: 1.6461 - accuracy: 0.4659\n",
            "Epoch 21/50\n",
            "3/3 [==============================] - 5s 1s/step - loss: 1.6521 - accuracy: 0.4886\n",
            "Epoch 22/50\n",
            "3/3 [==============================] - 5s 1s/step - loss: 1.2833 - accuracy: 0.5000\n",
            "Epoch 23/50\n",
            "3/3 [==============================] - 5s 1s/step - loss: 1.0319 - accuracy: 0.5000\n",
            "Epoch 24/50\n",
            "3/3 [==============================] - 5s 2s/step - loss: 1.1859 - accuracy: 0.4773\n",
            "Epoch 25/50\n",
            "3/3 [==============================] - 5s 1s/step - loss: 0.8882 - accuracy: 0.4545\n",
            "Epoch 26/50\n",
            "3/3 [==============================] - 4s 2s/step - loss: 0.8545 - accuracy: 0.5455\n",
            "Epoch 27/50\n",
            "3/3 [==============================] - 5s 1s/step - loss: 0.7474 - accuracy: 0.5341\n",
            "Epoch 28/50\n",
            "3/3 [==============================] - 4s 1s/step - loss: 0.9271 - accuracy: 0.4318\n",
            "Epoch 29/50\n",
            "2/3 [===================>..........] - ETA: 1s - loss: 0.8725 - accuracy: 0.5156"
          ]
        },
        {
          "output_type": "error",
          "ename": "KeyboardInterrupt",
          "evalue": "ignored",
          "traceback": [
            "\u001b[0;31m---------------------------------------------------------------------------\u001b[0m",
            "\u001b[0;31mKeyboardInterrupt\u001b[0m                         Traceback (most recent call last)",
            "\u001b[0;32m<ipython-input-52-d36fc167dcf1>\u001b[0m in \u001b[0;36m<cell line: 1>\u001b[0;34m()\u001b[0m\n\u001b[1;32m     16\u001b[0m     )\n\u001b[1;32m     17\u001b[0m     \u001b[0mmodel\u001b[0m\u001b[0;34m.\u001b[0m\u001b[0mcompile\u001b[0m\u001b[0;34m(\u001b[0m\u001b[0moptimizer\u001b[0m\u001b[0;34m=\u001b[0m\u001b[0mopt\u001b[0m\u001b[0;34m,\u001b[0m \u001b[0mloss\u001b[0m\u001b[0;34m=\u001b[0m\u001b[0;34m'categorical_crossentropy'\u001b[0m\u001b[0;34m,\u001b[0m \u001b[0mmetrics\u001b[0m\u001b[0;34m=\u001b[0m\u001b[0;34m[\u001b[0m\u001b[0;34m'accuracy'\u001b[0m\u001b[0;34m]\u001b[0m\u001b[0;34m)\u001b[0m\u001b[0;34m\u001b[0m\u001b[0;34m\u001b[0m\u001b[0m\n\u001b[0;32m---> 18\u001b[0;31m     \u001b[0mmodel\u001b[0m\u001b[0;34m.\u001b[0m\u001b[0mfit\u001b[0m\u001b[0;34m(\u001b[0m\u001b[0mtrainset\u001b[0m\u001b[0;34m,\u001b[0m \u001b[0mepochs\u001b[0m\u001b[0;34m=\u001b[0m\u001b[0;36m50\u001b[0m\u001b[0;34m)\u001b[0m\u001b[0;34m\u001b[0m\u001b[0;34m\u001b[0m\u001b[0m\n\u001b[0m",
            "\u001b[0;32m/usr/local/lib/python3.10/dist-packages/keras/utils/traceback_utils.py\u001b[0m in \u001b[0;36merror_handler\u001b[0;34m(*args, **kwargs)\u001b[0m\n\u001b[1;32m     63\u001b[0m         \u001b[0mfiltered_tb\u001b[0m \u001b[0;34m=\u001b[0m \u001b[0;32mNone\u001b[0m\u001b[0;34m\u001b[0m\u001b[0;34m\u001b[0m\u001b[0m\n\u001b[1;32m     64\u001b[0m         \u001b[0;32mtry\u001b[0m\u001b[0;34m:\u001b[0m\u001b[0;34m\u001b[0m\u001b[0;34m\u001b[0m\u001b[0m\n\u001b[0;32m---> 65\u001b[0;31m             \u001b[0;32mreturn\u001b[0m \u001b[0mfn\u001b[0m\u001b[0;34m(\u001b[0m\u001b[0;34m*\u001b[0m\u001b[0margs\u001b[0m\u001b[0;34m,\u001b[0m \u001b[0;34m**\u001b[0m\u001b[0mkwargs\u001b[0m\u001b[0;34m)\u001b[0m\u001b[0;34m\u001b[0m\u001b[0;34m\u001b[0m\u001b[0m\n\u001b[0m\u001b[1;32m     66\u001b[0m         \u001b[0;32mexcept\u001b[0m \u001b[0mException\u001b[0m \u001b[0;32mas\u001b[0m \u001b[0me\u001b[0m\u001b[0;34m:\u001b[0m\u001b[0;34m\u001b[0m\u001b[0;34m\u001b[0m\u001b[0m\n\u001b[1;32m     67\u001b[0m             \u001b[0mfiltered_tb\u001b[0m \u001b[0;34m=\u001b[0m \u001b[0m_process_traceback_frames\u001b[0m\u001b[0;34m(\u001b[0m\u001b[0me\u001b[0m\u001b[0;34m.\u001b[0m\u001b[0m__traceback__\u001b[0m\u001b[0;34m)\u001b[0m\u001b[0;34m\u001b[0m\u001b[0;34m\u001b[0m\u001b[0m\n",
            "\u001b[0;32m/usr/local/lib/python3.10/dist-packages/keras/engine/training.py\u001b[0m in \u001b[0;36mfit\u001b[0;34m(self, x, y, batch_size, epochs, verbose, callbacks, validation_split, validation_data, shuffle, class_weight, sample_weight, initial_epoch, steps_per_epoch, validation_steps, validation_batch_size, validation_freq, max_queue_size, workers, use_multiprocessing)\u001b[0m\n\u001b[1;32m   1689\u001b[0m                             \u001b[0mlogs\u001b[0m \u001b[0;34m=\u001b[0m \u001b[0mtmp_logs\u001b[0m\u001b[0;34m\u001b[0m\u001b[0;34m\u001b[0m\u001b[0m\n\u001b[1;32m   1690\u001b[0m                             \u001b[0mend_step\u001b[0m \u001b[0;34m=\u001b[0m \u001b[0mstep\u001b[0m \u001b[0;34m+\u001b[0m \u001b[0mdata_handler\u001b[0m\u001b[0;34m.\u001b[0m\u001b[0mstep_increment\u001b[0m\u001b[0;34m\u001b[0m\u001b[0;34m\u001b[0m\u001b[0m\n\u001b[0;32m-> 1691\u001b[0;31m                             \u001b[0mcallbacks\u001b[0m\u001b[0;34m.\u001b[0m\u001b[0mon_train_batch_end\u001b[0m\u001b[0;34m(\u001b[0m\u001b[0mend_step\u001b[0m\u001b[0;34m,\u001b[0m \u001b[0mlogs\u001b[0m\u001b[0;34m)\u001b[0m\u001b[0;34m\u001b[0m\u001b[0;34m\u001b[0m\u001b[0m\n\u001b[0m\u001b[1;32m   1692\u001b[0m                             \u001b[0;32mif\u001b[0m \u001b[0mself\u001b[0m\u001b[0;34m.\u001b[0m\u001b[0mstop_training\u001b[0m\u001b[0;34m:\u001b[0m\u001b[0;34m\u001b[0m\u001b[0;34m\u001b[0m\u001b[0m\n\u001b[1;32m   1693\u001b[0m                                 \u001b[0;32mbreak\u001b[0m\u001b[0;34m\u001b[0m\u001b[0;34m\u001b[0m\u001b[0m\n",
            "\u001b[0;32m/usr/local/lib/python3.10/dist-packages/keras/callbacks.py\u001b[0m in \u001b[0;36mon_train_batch_end\u001b[0;34m(self, batch, logs)\u001b[0m\n\u001b[1;32m    473\u001b[0m         \"\"\"\n\u001b[1;32m    474\u001b[0m         \u001b[0;32mif\u001b[0m \u001b[0mself\u001b[0m\u001b[0;34m.\u001b[0m\u001b[0m_should_call_train_batch_hooks\u001b[0m\u001b[0;34m:\u001b[0m\u001b[0;34m\u001b[0m\u001b[0;34m\u001b[0m\u001b[0m\n\u001b[0;32m--> 475\u001b[0;31m             \u001b[0mself\u001b[0m\u001b[0;34m.\u001b[0m\u001b[0m_call_batch_hook\u001b[0m\u001b[0;34m(\u001b[0m\u001b[0mModeKeys\u001b[0m\u001b[0;34m.\u001b[0m\u001b[0mTRAIN\u001b[0m\u001b[0;34m,\u001b[0m \u001b[0;34m\"end\"\u001b[0m\u001b[0;34m,\u001b[0m \u001b[0mbatch\u001b[0m\u001b[0;34m,\u001b[0m \u001b[0mlogs\u001b[0m\u001b[0;34m=\u001b[0m\u001b[0mlogs\u001b[0m\u001b[0;34m)\u001b[0m\u001b[0;34m\u001b[0m\u001b[0;34m\u001b[0m\u001b[0m\n\u001b[0m\u001b[1;32m    476\u001b[0m \u001b[0;34m\u001b[0m\u001b[0m\n\u001b[1;32m    477\u001b[0m     \u001b[0;32mdef\u001b[0m \u001b[0mon_test_batch_begin\u001b[0m\u001b[0;34m(\u001b[0m\u001b[0mself\u001b[0m\u001b[0;34m,\u001b[0m \u001b[0mbatch\u001b[0m\u001b[0;34m,\u001b[0m \u001b[0mlogs\u001b[0m\u001b[0;34m=\u001b[0m\u001b[0;32mNone\u001b[0m\u001b[0;34m)\u001b[0m\u001b[0;34m:\u001b[0m\u001b[0;34m\u001b[0m\u001b[0;34m\u001b[0m\u001b[0m\n",
            "\u001b[0;32m/usr/local/lib/python3.10/dist-packages/keras/callbacks.py\u001b[0m in \u001b[0;36m_call_batch_hook\u001b[0;34m(self, mode, hook, batch, logs)\u001b[0m\n\u001b[1;32m    320\u001b[0m             \u001b[0mself\u001b[0m\u001b[0;34m.\u001b[0m\u001b[0m_call_batch_begin_hook\u001b[0m\u001b[0;34m(\u001b[0m\u001b[0mmode\u001b[0m\u001b[0;34m,\u001b[0m \u001b[0mbatch\u001b[0m\u001b[0;34m,\u001b[0m \u001b[0mlogs\u001b[0m\u001b[0;34m)\u001b[0m\u001b[0;34m\u001b[0m\u001b[0;34m\u001b[0m\u001b[0m\n\u001b[1;32m    321\u001b[0m         \u001b[0;32melif\u001b[0m \u001b[0mhook\u001b[0m \u001b[0;34m==\u001b[0m \u001b[0;34m\"end\"\u001b[0m\u001b[0;34m:\u001b[0m\u001b[0;34m\u001b[0m\u001b[0;34m\u001b[0m\u001b[0m\n\u001b[0;32m--> 322\u001b[0;31m             \u001b[0mself\u001b[0m\u001b[0;34m.\u001b[0m\u001b[0m_call_batch_end_hook\u001b[0m\u001b[0;34m(\u001b[0m\u001b[0mmode\u001b[0m\u001b[0;34m,\u001b[0m \u001b[0mbatch\u001b[0m\u001b[0;34m,\u001b[0m \u001b[0mlogs\u001b[0m\u001b[0;34m)\u001b[0m\u001b[0;34m\u001b[0m\u001b[0;34m\u001b[0m\u001b[0m\n\u001b[0m\u001b[1;32m    323\u001b[0m         \u001b[0;32melse\u001b[0m\u001b[0;34m:\u001b[0m\u001b[0;34m\u001b[0m\u001b[0;34m\u001b[0m\u001b[0m\n\u001b[1;32m    324\u001b[0m             raise ValueError(\n",
            "\u001b[0;32m/usr/local/lib/python3.10/dist-packages/keras/callbacks.py\u001b[0m in \u001b[0;36m_call_batch_end_hook\u001b[0;34m(self, mode, batch, logs)\u001b[0m\n\u001b[1;32m    343\u001b[0m             \u001b[0mself\u001b[0m\u001b[0;34m.\u001b[0m\u001b[0m_batch_times\u001b[0m\u001b[0;34m.\u001b[0m\u001b[0mappend\u001b[0m\u001b[0;34m(\u001b[0m\u001b[0mbatch_time\u001b[0m\u001b[0;34m)\u001b[0m\u001b[0;34m\u001b[0m\u001b[0;34m\u001b[0m\u001b[0m\n\u001b[1;32m    344\u001b[0m \u001b[0;34m\u001b[0m\u001b[0m\n\u001b[0;32m--> 345\u001b[0;31m         \u001b[0mself\u001b[0m\u001b[0;34m.\u001b[0m\u001b[0m_call_batch_hook_helper\u001b[0m\u001b[0;34m(\u001b[0m\u001b[0mhook_name\u001b[0m\u001b[0;34m,\u001b[0m \u001b[0mbatch\u001b[0m\u001b[0;34m,\u001b[0m \u001b[0mlogs\u001b[0m\u001b[0;34m)\u001b[0m\u001b[0;34m\u001b[0m\u001b[0;34m\u001b[0m\u001b[0m\n\u001b[0m\u001b[1;32m    346\u001b[0m \u001b[0;34m\u001b[0m\u001b[0m\n\u001b[1;32m    347\u001b[0m         \u001b[0;32mif\u001b[0m \u001b[0mlen\u001b[0m\u001b[0;34m(\u001b[0m\u001b[0mself\u001b[0m\u001b[0;34m.\u001b[0m\u001b[0m_batch_times\u001b[0m\u001b[0;34m)\u001b[0m \u001b[0;34m>=\u001b[0m \u001b[0mself\u001b[0m\u001b[0;34m.\u001b[0m\u001b[0m_num_batches_for_timing_check\u001b[0m\u001b[0;34m:\u001b[0m\u001b[0;34m\u001b[0m\u001b[0;34m\u001b[0m\u001b[0m\n",
            "\u001b[0;32m/usr/local/lib/python3.10/dist-packages/keras/callbacks.py\u001b[0m in \u001b[0;36m_call_batch_hook_helper\u001b[0;34m(self, hook_name, batch, logs)\u001b[0m\n\u001b[1;32m    391\u001b[0m         \u001b[0;32mfor\u001b[0m \u001b[0mcallback\u001b[0m \u001b[0;32min\u001b[0m \u001b[0mself\u001b[0m\u001b[0;34m.\u001b[0m\u001b[0mcallbacks\u001b[0m\u001b[0;34m:\u001b[0m\u001b[0;34m\u001b[0m\u001b[0;34m\u001b[0m\u001b[0m\n\u001b[1;32m    392\u001b[0m             \u001b[0mhook\u001b[0m \u001b[0;34m=\u001b[0m \u001b[0mgetattr\u001b[0m\u001b[0;34m(\u001b[0m\u001b[0mcallback\u001b[0m\u001b[0;34m,\u001b[0m \u001b[0mhook_name\u001b[0m\u001b[0;34m)\u001b[0m\u001b[0;34m\u001b[0m\u001b[0;34m\u001b[0m\u001b[0m\n\u001b[0;32m--> 393\u001b[0;31m             \u001b[0mhook\u001b[0m\u001b[0;34m(\u001b[0m\u001b[0mbatch\u001b[0m\u001b[0;34m,\u001b[0m \u001b[0mlogs\u001b[0m\u001b[0;34m)\u001b[0m\u001b[0;34m\u001b[0m\u001b[0;34m\u001b[0m\u001b[0m\n\u001b[0m\u001b[1;32m    394\u001b[0m \u001b[0;34m\u001b[0m\u001b[0m\n\u001b[1;32m    395\u001b[0m         \u001b[0;32mif\u001b[0m \u001b[0mself\u001b[0m\u001b[0;34m.\u001b[0m\u001b[0m_check_timing\u001b[0m\u001b[0;34m:\u001b[0m\u001b[0;34m\u001b[0m\u001b[0;34m\u001b[0m\u001b[0m\n",
            "\u001b[0;32m/usr/local/lib/python3.10/dist-packages/keras/callbacks.py\u001b[0m in \u001b[0;36mon_train_batch_end\u001b[0;34m(self, batch, logs)\u001b[0m\n\u001b[1;32m   1091\u001b[0m \u001b[0;34m\u001b[0m\u001b[0m\n\u001b[1;32m   1092\u001b[0m     \u001b[0;32mdef\u001b[0m \u001b[0mon_train_batch_end\u001b[0m\u001b[0;34m(\u001b[0m\u001b[0mself\u001b[0m\u001b[0;34m,\u001b[0m \u001b[0mbatch\u001b[0m\u001b[0;34m,\u001b[0m \u001b[0mlogs\u001b[0m\u001b[0;34m=\u001b[0m\u001b[0;32mNone\u001b[0m\u001b[0;34m)\u001b[0m\u001b[0;34m:\u001b[0m\u001b[0;34m\u001b[0m\u001b[0;34m\u001b[0m\u001b[0m\n\u001b[0;32m-> 1093\u001b[0;31m         \u001b[0mself\u001b[0m\u001b[0;34m.\u001b[0m\u001b[0m_batch_update_progbar\u001b[0m\u001b[0;34m(\u001b[0m\u001b[0mbatch\u001b[0m\u001b[0;34m,\u001b[0m \u001b[0mlogs\u001b[0m\u001b[0;34m)\u001b[0m\u001b[0;34m\u001b[0m\u001b[0;34m\u001b[0m\u001b[0m\n\u001b[0m\u001b[1;32m   1094\u001b[0m \u001b[0;34m\u001b[0m\u001b[0m\n\u001b[1;32m   1095\u001b[0m     \u001b[0;32mdef\u001b[0m \u001b[0mon_test_batch_end\u001b[0m\u001b[0;34m(\u001b[0m\u001b[0mself\u001b[0m\u001b[0;34m,\u001b[0m \u001b[0mbatch\u001b[0m\u001b[0;34m,\u001b[0m \u001b[0mlogs\u001b[0m\u001b[0;34m=\u001b[0m\u001b[0;32mNone\u001b[0m\u001b[0;34m)\u001b[0m\u001b[0;34m:\u001b[0m\u001b[0;34m\u001b[0m\u001b[0;34m\u001b[0m\u001b[0m\n",
            "\u001b[0;32m/usr/local/lib/python3.10/dist-packages/keras/callbacks.py\u001b[0m in \u001b[0;36m_batch_update_progbar\u001b[0;34m(self, batch, logs)\u001b[0m\n\u001b[1;32m   1167\u001b[0m         \u001b[0;32mif\u001b[0m \u001b[0mself\u001b[0m\u001b[0;34m.\u001b[0m\u001b[0mverbose\u001b[0m \u001b[0;34m==\u001b[0m \u001b[0;36m1\u001b[0m\u001b[0;34m:\u001b[0m\u001b[0;34m\u001b[0m\u001b[0;34m\u001b[0m\u001b[0m\n\u001b[1;32m   1168\u001b[0m             \u001b[0;31m# Only block async when verbose = 1.\u001b[0m\u001b[0;34m\u001b[0m\u001b[0;34m\u001b[0m\u001b[0m\n\u001b[0;32m-> 1169\u001b[0;31m             \u001b[0mlogs\u001b[0m \u001b[0;34m=\u001b[0m \u001b[0mtf_utils\u001b[0m\u001b[0;34m.\u001b[0m\u001b[0msync_to_numpy_or_python_type\u001b[0m\u001b[0;34m(\u001b[0m\u001b[0mlogs\u001b[0m\u001b[0;34m)\u001b[0m\u001b[0;34m\u001b[0m\u001b[0;34m\u001b[0m\u001b[0m\n\u001b[0m\u001b[1;32m   1170\u001b[0m             \u001b[0mself\u001b[0m\u001b[0;34m.\u001b[0m\u001b[0mprogbar\u001b[0m\u001b[0;34m.\u001b[0m\u001b[0mupdate\u001b[0m\u001b[0;34m(\u001b[0m\u001b[0mself\u001b[0m\u001b[0;34m.\u001b[0m\u001b[0mseen\u001b[0m\u001b[0;34m,\u001b[0m \u001b[0mlist\u001b[0m\u001b[0;34m(\u001b[0m\u001b[0mlogs\u001b[0m\u001b[0;34m.\u001b[0m\u001b[0mitems\u001b[0m\u001b[0;34m(\u001b[0m\u001b[0;34m)\u001b[0m\u001b[0;34m)\u001b[0m\u001b[0;34m,\u001b[0m \u001b[0mfinalize\u001b[0m\u001b[0;34m=\u001b[0m\u001b[0;32mFalse\u001b[0m\u001b[0;34m)\u001b[0m\u001b[0;34m\u001b[0m\u001b[0;34m\u001b[0m\u001b[0m\n\u001b[1;32m   1171\u001b[0m \u001b[0;34m\u001b[0m\u001b[0m\n",
            "\u001b[0;32m/usr/local/lib/python3.10/dist-packages/keras/utils/tf_utils.py\u001b[0m in \u001b[0;36msync_to_numpy_or_python_type\u001b[0;34m(tensors)\u001b[0m\n\u001b[1;32m    678\u001b[0m         \u001b[0;32mreturn\u001b[0m \u001b[0mt\u001b[0m\u001b[0;34m.\u001b[0m\u001b[0mitem\u001b[0m\u001b[0;34m(\u001b[0m\u001b[0;34m)\u001b[0m \u001b[0;32mif\u001b[0m \u001b[0mnp\u001b[0m\u001b[0;34m.\u001b[0m\u001b[0mndim\u001b[0m\u001b[0;34m(\u001b[0m\u001b[0mt\u001b[0m\u001b[0;34m)\u001b[0m \u001b[0;34m==\u001b[0m \u001b[0;36m0\u001b[0m \u001b[0;32melse\u001b[0m \u001b[0mt\u001b[0m\u001b[0;34m\u001b[0m\u001b[0;34m\u001b[0m\u001b[0m\n\u001b[1;32m    679\u001b[0m \u001b[0;34m\u001b[0m\u001b[0m\n\u001b[0;32m--> 680\u001b[0;31m     \u001b[0;32mreturn\u001b[0m \u001b[0mtf\u001b[0m\u001b[0;34m.\u001b[0m\u001b[0mnest\u001b[0m\u001b[0;34m.\u001b[0m\u001b[0mmap_structure\u001b[0m\u001b[0;34m(\u001b[0m\u001b[0m_to_single_numpy_or_python_type\u001b[0m\u001b[0;34m,\u001b[0m \u001b[0mtensors\u001b[0m\u001b[0;34m)\u001b[0m\u001b[0;34m\u001b[0m\u001b[0;34m\u001b[0m\u001b[0m\n\u001b[0m\u001b[1;32m    681\u001b[0m \u001b[0;34m\u001b[0m\u001b[0m\n\u001b[1;32m    682\u001b[0m \u001b[0;34m\u001b[0m\u001b[0m\n",
            "\u001b[0;32m/usr/local/lib/python3.10/dist-packages/tensorflow/python/util/nest.py\u001b[0m in \u001b[0;36mmap_structure\u001b[0;34m(func, *structure, **kwargs)\u001b[0m\n\u001b[1;32m    915\u001b[0m \u001b[0;34m\u001b[0m\u001b[0m\n\u001b[1;32m    916\u001b[0m   return pack_sequence_as(\n\u001b[0;32m--> 917\u001b[0;31m       \u001b[0mstructure\u001b[0m\u001b[0;34m[\u001b[0m\u001b[0;36m0\u001b[0m\u001b[0;34m]\u001b[0m\u001b[0;34m,\u001b[0m \u001b[0;34m[\u001b[0m\u001b[0mfunc\u001b[0m\u001b[0;34m(\u001b[0m\u001b[0;34m*\u001b[0m\u001b[0mx\u001b[0m\u001b[0;34m)\u001b[0m \u001b[0;32mfor\u001b[0m \u001b[0mx\u001b[0m \u001b[0;32min\u001b[0m \u001b[0mentries\u001b[0m\u001b[0;34m]\u001b[0m\u001b[0;34m,\u001b[0m\u001b[0;34m\u001b[0m\u001b[0;34m\u001b[0m\u001b[0m\n\u001b[0m\u001b[1;32m    918\u001b[0m       expand_composites=expand_composites)\n\u001b[1;32m    919\u001b[0m \u001b[0;34m\u001b[0m\u001b[0m\n",
            "\u001b[0;32m/usr/local/lib/python3.10/dist-packages/tensorflow/python/util/nest.py\u001b[0m in \u001b[0;36m<listcomp>\u001b[0;34m(.0)\u001b[0m\n\u001b[1;32m    915\u001b[0m \u001b[0;34m\u001b[0m\u001b[0m\n\u001b[1;32m    916\u001b[0m   return pack_sequence_as(\n\u001b[0;32m--> 917\u001b[0;31m       \u001b[0mstructure\u001b[0m\u001b[0;34m[\u001b[0m\u001b[0;36m0\u001b[0m\u001b[0;34m]\u001b[0m\u001b[0;34m,\u001b[0m \u001b[0;34m[\u001b[0m\u001b[0mfunc\u001b[0m\u001b[0;34m(\u001b[0m\u001b[0;34m*\u001b[0m\u001b[0mx\u001b[0m\u001b[0;34m)\u001b[0m \u001b[0;32mfor\u001b[0m \u001b[0mx\u001b[0m \u001b[0;32min\u001b[0m \u001b[0mentries\u001b[0m\u001b[0;34m]\u001b[0m\u001b[0;34m,\u001b[0m\u001b[0;34m\u001b[0m\u001b[0;34m\u001b[0m\u001b[0m\n\u001b[0m\u001b[1;32m    918\u001b[0m       expand_composites=expand_composites)\n\u001b[1;32m    919\u001b[0m \u001b[0;34m\u001b[0m\u001b[0m\n",
            "\u001b[0;32m/usr/local/lib/python3.10/dist-packages/keras/utils/tf_utils.py\u001b[0m in \u001b[0;36m_to_single_numpy_or_python_type\u001b[0;34m(t)\u001b[0m\n\u001b[1;32m    671\u001b[0m         \u001b[0;31m# Don't turn ragged or sparse tensors to NumPy.\u001b[0m\u001b[0;34m\u001b[0m\u001b[0;34m\u001b[0m\u001b[0m\n\u001b[1;32m    672\u001b[0m         \u001b[0;32mif\u001b[0m \u001b[0misinstance\u001b[0m\u001b[0;34m(\u001b[0m\u001b[0mt\u001b[0m\u001b[0;34m,\u001b[0m \u001b[0mtf\u001b[0m\u001b[0;34m.\u001b[0m\u001b[0mTensor\u001b[0m\u001b[0;34m)\u001b[0m\u001b[0;34m:\u001b[0m\u001b[0;34m\u001b[0m\u001b[0;34m\u001b[0m\u001b[0m\n\u001b[0;32m--> 673\u001b[0;31m             \u001b[0mt\u001b[0m \u001b[0;34m=\u001b[0m \u001b[0mt\u001b[0m\u001b[0;34m.\u001b[0m\u001b[0mnumpy\u001b[0m\u001b[0;34m(\u001b[0m\u001b[0;34m)\u001b[0m\u001b[0;34m\u001b[0m\u001b[0;34m\u001b[0m\u001b[0m\n\u001b[0m\u001b[1;32m    674\u001b[0m         \u001b[0;31m# Strings, ragged and sparse tensors don't have .item(). Return them\u001b[0m\u001b[0;34m\u001b[0m\u001b[0;34m\u001b[0m\u001b[0m\n\u001b[1;32m    675\u001b[0m         \u001b[0;31m# as-is.\u001b[0m\u001b[0;34m\u001b[0m\u001b[0;34m\u001b[0m\u001b[0m\n",
            "\u001b[0;32m/usr/local/lib/python3.10/dist-packages/tensorflow/python/framework/ops.py\u001b[0m in \u001b[0;36mnumpy\u001b[0;34m(self)\u001b[0m\n\u001b[1;32m   1158\u001b[0m     \"\"\"\n\u001b[1;32m   1159\u001b[0m     \u001b[0;31m# TODO(slebedev): Consider avoiding a copy for non-CPU or remote tensors.\u001b[0m\u001b[0;34m\u001b[0m\u001b[0;34m\u001b[0m\u001b[0m\n\u001b[0;32m-> 1160\u001b[0;31m     \u001b[0mmaybe_arr\u001b[0m \u001b[0;34m=\u001b[0m \u001b[0mself\u001b[0m\u001b[0;34m.\u001b[0m\u001b[0m_numpy\u001b[0m\u001b[0;34m(\u001b[0m\u001b[0;34m)\u001b[0m  \u001b[0;31m# pylint: disable=protected-access\u001b[0m\u001b[0;34m\u001b[0m\u001b[0;34m\u001b[0m\u001b[0m\n\u001b[0m\u001b[1;32m   1161\u001b[0m     \u001b[0;32mreturn\u001b[0m \u001b[0mmaybe_arr\u001b[0m\u001b[0;34m.\u001b[0m\u001b[0mcopy\u001b[0m\u001b[0;34m(\u001b[0m\u001b[0;34m)\u001b[0m \u001b[0;32mif\u001b[0m \u001b[0misinstance\u001b[0m\u001b[0;34m(\u001b[0m\u001b[0mmaybe_arr\u001b[0m\u001b[0;34m,\u001b[0m \u001b[0mnp\u001b[0m\u001b[0;34m.\u001b[0m\u001b[0mndarray\u001b[0m\u001b[0;34m)\u001b[0m \u001b[0;32melse\u001b[0m \u001b[0mmaybe_arr\u001b[0m\u001b[0;34m\u001b[0m\u001b[0;34m\u001b[0m\u001b[0m\n\u001b[1;32m   1162\u001b[0m \u001b[0;34m\u001b[0m\u001b[0m\n",
            "\u001b[0;32m/usr/local/lib/python3.10/dist-packages/tensorflow/python/framework/ops.py\u001b[0m in \u001b[0;36m_numpy\u001b[0;34m(self)\u001b[0m\n\u001b[1;32m   1124\u001b[0m   \u001b[0;32mdef\u001b[0m \u001b[0m_numpy\u001b[0m\u001b[0;34m(\u001b[0m\u001b[0mself\u001b[0m\u001b[0;34m)\u001b[0m\u001b[0;34m:\u001b[0m\u001b[0;34m\u001b[0m\u001b[0;34m\u001b[0m\u001b[0m\n\u001b[1;32m   1125\u001b[0m     \u001b[0;32mtry\u001b[0m\u001b[0;34m:\u001b[0m\u001b[0;34m\u001b[0m\u001b[0;34m\u001b[0m\u001b[0m\n\u001b[0;32m-> 1126\u001b[0;31m       \u001b[0;32mreturn\u001b[0m \u001b[0mself\u001b[0m\u001b[0;34m.\u001b[0m\u001b[0m_numpy_internal\u001b[0m\u001b[0;34m(\u001b[0m\u001b[0;34m)\u001b[0m\u001b[0;34m\u001b[0m\u001b[0;34m\u001b[0m\u001b[0m\n\u001b[0m\u001b[1;32m   1127\u001b[0m     \u001b[0;32mexcept\u001b[0m \u001b[0mcore\u001b[0m\u001b[0;34m.\u001b[0m\u001b[0m_NotOkStatusException\u001b[0m \u001b[0;32mas\u001b[0m \u001b[0me\u001b[0m\u001b[0;34m:\u001b[0m  \u001b[0;31m# pylint: disable=protected-access\u001b[0m\u001b[0;34m\u001b[0m\u001b[0;34m\u001b[0m\u001b[0m\n\u001b[1;32m   1128\u001b[0m       \u001b[0;32mraise\u001b[0m \u001b[0mcore\u001b[0m\u001b[0;34m.\u001b[0m\u001b[0m_status_to_exception\u001b[0m\u001b[0;34m(\u001b[0m\u001b[0me\u001b[0m\u001b[0;34m)\u001b[0m \u001b[0;32mfrom\u001b[0m \u001b[0;32mNone\u001b[0m  \u001b[0;31m# pylint: disable=protected-access\u001b[0m\u001b[0;34m\u001b[0m\u001b[0;34m\u001b[0m\u001b[0m\n",
            "\u001b[0;31mKeyboardInterrupt\u001b[0m: "
          ]
        }
      ],
      "source": [
        "with tf.device('/GPU:0'):\n",
        "    # Model\n",
        "    model = buildNeNet()\n",
        "\n",
        "    # Dataloader\n",
        "    train = ImageDataGenerator(rescale=1/255.0)\n",
        "    trainset = train.flow_from_directory(\n",
        "        '/content/drive/MyDrive/Colab Notebooks/ForgeryDetection/fold',\n",
        "        target_size=(256, 256),\n",
        "        batch_size=32\n",
        "    )\n",
        "\n",
        "    # Training\n",
        "    opt = Adam(\n",
        "        learning_rate=0.0001,\n",
        "    )\n",
        "    model.compile(optimizer=opt, loss='categorical_crossentropy', metrics=['accuracy'])\n",
        "    model.fit(trainset, epochs=50)"
      ]
    },
    {
      "cell_type": "code",
      "execution_count": null,
      "metadata": {
        "id": "BiB4Q4Wp7lWm"
      },
      "outputs": [],
      "source": []
    }
  ],
  "metadata": {
    "accelerator": "GPU",
    "colab": {
      "collapsed_sections": [
        "AwyKJbmsX-1f",
        "xsDksRGsYHYe",
        "Bcbu0xH73p07"
      ],
      "provenance": [],
      "toc_visible": true
    },
    "kernelspec": {
      "display_name": "Python 3",
      "name": "python3"
    },
    "language_info": {
      "name": "python"
    }
  },
  "nbformat": 4,
  "nbformat_minor": 0
}