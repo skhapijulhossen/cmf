{
 "cells": [
  {
   "cell_type": "code",
   "execution_count": 2,
   "metadata": {},
   "outputs": [],
   "source": [
    "import os\n",
    "import shutil"
   ]
  },
  {
   "cell_type": "markdown",
   "metadata": {},
   "source": [
    "# CoMoFoD Folding"
   ]
  },
  {
   "cell_type": "code",
   "execution_count": null,
   "metadata": {},
   "outputs": [],
   "source": [
    "# os.listdir('CoMoFoD_small_v2')\n",
    "os.makedirs(\"CoMoFoD_small_v2/fold4/original\")\n",
    "os.makedirs(\"CoMoFoD_small_v2/fold4/forged\")"
   ]
  },
  {
   "cell_type": "code",
   "execution_count": 42,
   "metadata": {},
   "outputs": [],
   "source": [
    "\n",
    "\n",
    "forged = 0\n",
    "original = 0\n",
    "for image in os.listdir('data'):\n",
    "    if original == 10 and forged == 10:\n",
    "        break\n",
    "    try:\n",
    "        label = image.split('_')[1]\n",
    "    except IndexError:\n",
    "        continue\n",
    "\n",
    "    # src\n",
    "    src = f'./data/{image}'\n",
    "\n",
    "    if label == 'O' and original < 10:\n",
    "        dest = f'./folds/fold2/original/{image}'\n",
    "        shutil.move(src=src, dst=dest)\n",
    "        original += 1\n",
    "        continue\n",
    "    if label == 'F' and forged < 10:\n",
    "        dest = f'./folds/fold2/forged/{image}'\n",
    "        shutil.move(src=src, dst=dest)\n",
    "        forged += 1\n",
    "        continue"
   ]
  },
  {
   "cell_type": "code",
   "execution_count": 38,
   "metadata": {},
   "outputs": [
    {
     "data": {
      "text/plain": [
       "0"
      ]
     },
     "execution_count": 38,
     "metadata": {},
     "output_type": "execute_result"
    }
   ],
   "source": [
    "fold"
   ]
  },
  {
   "cell_type": "code",
   "execution_count": 25,
   "metadata": {},
   "outputs": [
    {
     "data": {
      "text/plain": [
       "'.\\\\CoMoFoD_small_v2\\\\fold0\\\\forged\\\\001_F_BC1.png'"
      ]
     },
     "execution_count": 25,
     "metadata": {},
     "output_type": "execute_result"
    }
   ],
   "source": [
    "shutil.move(src='.\\\\CoMoFoD_small_v2\\\\001_F_BC1.png',\n",
    "            dst='.\\\\CoMoFoD_small_v2\\\\fold0\\\\forged\\\\001_F_BC1.png', copy_function=shutil.copyfile)\n",
    "\n",
    "# with open()\n"
   ]
  },
  {
   "cell_type": "code",
   "execution_count": 44,
   "metadata": {},
   "outputs": [
    {
     "data": {
      "text/plain": [
       "1999"
      ]
     },
     "execution_count": 44,
     "metadata": {},
     "output_type": "execute_result"
    }
   ],
   "source": [
    "len(os.listdir('.\\\\CoMoFoD_small_v2\\\\fold0\\\\forged'))"
   ]
  },
  {
   "cell_type": "markdown",
   "metadata": {},
   "source": [
    "# MICC_F600 FOlding"
   ]
  },
  {
   "cell_type": "code",
   "execution_count": 21,
   "metadata": {},
   "outputs": [],
   "source": [
    "count = 14\n",
    "for imageFile in os.listdir(\"MICC_F600\"):\n",
    "#     print(imageFile)\n",
    "    try:\n",
    "        label = imageFile.split('_')[-1]\n",
    "\n",
    "    except IndexError:\n",
    "        continue\n",
    "    if label.endswith(\"scale.jpg\") or label.endswith(\"gt.png\"):\n",
    "        continue\n",
    "    \n",
    "    src_forged = f'./MICC_F600/{imageFile}'\n",
    "    src_mask = f'./MICC_F600/{imageFile[:-4]}_gt.png'\n",
    "    \n",
    "    if not os.path.exists(src_mask):\n",
    "        continue\n",
    "    \n",
    "    dst_forged = f'./micc_folds/fold1/forged/{imageFile}'\n",
    "    dst_mask = f'./micc_folds/fold1/mask/{imageFile[:-4]}_gt.png'\n",
    "    shutil.move(src=src_forged, dst=dst_forged)\n",
    "    shutil.move(src=src_mask, dst=dst_mask)\n",
    "    count += 1\n",
    "    if count >= 150: break"
   ]
  },
  {
   "cell_type": "code",
   "execution_count": null,
   "metadata": {},
   "outputs": [],
   "source": []
  }
 ],
 "metadata": {
  "kernelspec": {
   "display_name": "Python 3 (ipykernel)",
   "language": "python",
   "name": "python3"
  },
  "language_info": {
   "codemirror_mode": {
    "name": "ipython",
    "version": 3
   },
   "file_extension": ".py",
   "mimetype": "text/x-python",
   "name": "python",
   "nbconvert_exporter": "python",
   "pygments_lexer": "ipython3",
   "version": "3.10.6"
  }
 },
 "nbformat": 4,
 "nbformat_minor": 2
}
