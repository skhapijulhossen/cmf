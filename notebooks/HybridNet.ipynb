{
  "nbformat": 4,
  "nbformat_minor": 0,
  "metadata": {
    "colab": {
      "provenance": [],
      "gpuType": "T4",
      "collapsed_sections": [
        "AwyKJbmsX-1f",
        "xsDksRGsYHYe",
        "NALJ_JylhhPw",
        "S-u-98c2mWva",
        "DfR9LUPsBNNr"
      ]
    },
    "kernelspec": {
      "name": "python3",
      "display_name": "Python 3"
    },
    "language_info": {
      "name": "python"
    },
    "accelerator": "GPU"
  },
  "cells": [
    {
      "cell_type": "markdown",
      "source": [
        "# **Imports**\n",
        "\n"
      ],
      "metadata": {
        "id": "e07mjCWoX57P"
      }
    },
    {
      "cell_type": "code",
      "execution_count": 1,
      "metadata": {
        "id": "v58W90hlAJJc"
      },
      "outputs": [],
      "source": [
        "import tensorflow as tf\n",
        "from tensorflow.keras.layers import Input,Dense,Conv2D,Add\n",
        "from tensorflow.keras.layers import SeparableConv2D,ReLU\n",
        "from tensorflow.keras.layers import BatchNormalization,MaxPool2D\n",
        "from tensorflow.keras.layers import GlobalAvgPool2D\n",
        "from tensorflow.keras import Model\n",
        "import numpy as np\n",
        "from tensorflow import keras\n",
        "from tensorflow.keras.layers import LayerNormalization, Dense, Embedding, Layer, Dropout, Input\n",
        "from tensorflow.keras.layers import MultiHeadAttention, Add, Flatten, Activation, MaxPooling2D, add, GlobalMaxPooling2D\n",
        "from tensorflow.keras.callbacks import EarlyStopping\n",
        "from tensorflow.keras.optimizers import Adam\n",
        "# import tensorflow_addons as tfa\n",
        "import warnings"
      ]
    },
    {
      "cell_type": "code",
      "source": [
        "from google.colab import drive\n",
        "drive.mount('/content/drive')"
      ],
      "metadata": {
        "colab": {
          "base_uri": "https://localhost:8080/"
        },
        "id": "LRM2ZpLNWBEo",
        "outputId": "f557e9ba-b7c0-4436-9d42-06fef4f83a69"
      },
      "execution_count": 4,
      "outputs": [
        {
          "output_type": "stream",
          "name": "stdout",
          "text": [
            "Mounted at /content/drive\n"
          ]
        }
      ]
    },
    {
      "cell_type": "code",
      "source": [
        "from tensorflow.keras.preprocessing.image import ImageDataGenerator\n",
        "from tensorflow.keras.utils import get_custom_objects\n",
        "from PIL import Image\n",
        "import numpy as np\n",
        "from tensorflow.keras import backend, layers, models\n",
        "import tensorflow as tf\n",
        "import numpy as np\n",
        "from PIL import Image\n",
        "import os"
      ],
      "metadata": {
        "id": "3SguYzJw-S9X"
      },
      "execution_count": 2,
      "outputs": []
    },
    {
      "cell_type": "code",
      "source": [
        "from skimage import io"
      ],
      "metadata": {
        "id": "lC-9BzFjMtuL"
      },
      "execution_count": 3,
      "outputs": []
    },
    {
      "cell_type": "markdown",
      "source": [
        "# **Data Preprocessing**"
      ],
      "metadata": {
        "id": "AwyKJbmsX-1f"
      }
    },
    {
      "cell_type": "code",
      "source": [],
      "metadata": {
        "id": "R3UAbGtlEg4l"
      },
      "execution_count": null,
      "outputs": []
    },
    {
      "cell_type": "code",
      "source": [],
      "metadata": {
        "id": "BTNPfvYKEg2S"
      },
      "execution_count": null,
      "outputs": []
    },
    {
      "cell_type": "code",
      "source": [
        "train = ImageDataGenerator(rescale=1/255.0)\n",
        "trainset = train.flow_from_directory(\n",
        "    '/content/drive/MyDrive/Colab Notebooks/ForgeryDetection/fold0',\n",
        "    target_size=(160,160),\n",
        ")"
      ],
      "metadata": {
        "id": "lJNHss62EgxP",
        "colab": {
          "base_uri": "https://localhost:8080/"
        },
        "outputId": "9aa55b12-ef3b-41d6-e27f-149927315c06"
      },
      "execution_count": 5,
      "outputs": [
        {
          "output_type": "stream",
          "name": "stdout",
          "text": [
            "Found 3998 images belonging to 2 classes.\n"
          ]
        }
      ]
    },
    {
      "cell_type": "code",
      "source": [
        "batch = next(trainset)"
      ],
      "metadata": {
        "id": "ngxyPOaQDOMw"
      },
      "execution_count": null,
      "outputs": []
    },
    {
      "cell_type": "code",
      "source": [
        "batch"
      ],
      "metadata": {
        "id": "GeaBStZkDOPZ"
      },
      "execution_count": null,
      "outputs": []
    },
    {
      "cell_type": "code",
      "source": [],
      "metadata": {
        "id": "5vRPMWeWSw3s"
      },
      "execution_count": null,
      "outputs": []
    },
    {
      "cell_type": "code",
      "source": [],
      "metadata": {
        "id": "Vqry9kyZSw1Q"
      },
      "execution_count": null,
      "outputs": []
    },
    {
      "cell_type": "code",
      "source": [],
      "metadata": {
        "id": "i6u3Fp2DSwy-"
      },
      "execution_count": null,
      "outputs": []
    },
    {
      "cell_type": "markdown",
      "source": [
        "# Xception Network"
      ],
      "metadata": {
        "id": "xsDksRGsYHYe"
      }
    },
    {
      "cell_type": "code",
      "source": [],
      "metadata": {
        "id": "GZEhIflrwYvu"
      },
      "execution_count": null,
      "outputs": []
    },
    {
      "cell_type": "code",
      "source": [
        "TF_WEIGHTS_PATH_NO_TOP = '/content/drive/MyDrive/Colab Notebooks/ForgeryDetection/xception_weights_tf_dim_ordering_tf_kernels_notop.h5'\n",
        "\n",
        "\n",
        "def Xception(include_top=False, weights='imagenet', input_tensor=None, input_shape=None, pooling=None, classes=1000, **kwargs):\n",
        "    \"\"\"Instantiates the Xception architecture.\n",
        "\n",
        "    Optionally loads weights pre-trained on ImageNet.\n",
        "    Note that the data format convention used by the model is\n",
        "    the one specified in your Keras config at `~/.keras/keras.json`.\n",
        "\n",
        "    Note that the default input image size for this model is 299x299.\n",
        "\n",
        "    # Arguments\n",
        "        include_top: whether to include the fully-connected\n",
        "            layer at the top of the network.\n",
        "        weights: one of `None` (random initialization),\n",
        "              'imagenet' (pre-training on ImageNet),\n",
        "              or the path to the weights file to be loaded.\n",
        "        input_tensor: optional Keras tensor\n",
        "            (i.e. output of `layers.Input()`)\n",
        "            to use as image input for the model.\n",
        "        input_shape: optional shape tuple, only to be specified\n",
        "            if `include_top` is False (otherwise the input shape\n",
        "            has to be `(299, 299, 3)`.\n",
        "            It should have exactly 3 inputs channels,\n",
        "            and width and height should be no smaller than 71.\n",
        "            E.g. `(150, 150, 3)` would be one valid value.\n",
        "        pooling: Optional pooling mode for feature extraction\n",
        "            when `include_top` is `False`.\n",
        "            - `None` means that the output of the model will be\n",
        "                the 4D tensor output of the\n",
        "                last convolutional block.\n",
        "            - `avg` means that global average pooling\n",
        "                will be applied to the output of the\n",
        "                last convolutional block, and thus\n",
        "                the output of the model will be a 2D tensor.\n",
        "            - `max` means that global max pooling will\n",
        "                be applied.\n",
        "        classes: optional number of classes to classify images\n",
        "            into, only to be specified if `include_top` is True,\n",
        "            and if no `weights` argument is specified.\n",
        "\n",
        "    # Returns\n",
        "        A Keras model instance.\n",
        "\n",
        "    # Raises\n",
        "        ValueError: in case of invalid argument for `weights`,\n",
        "            or invalid input shape.\n",
        "        RuntimeError: If attempting to run this model with a\n",
        "            backend that does not support separable convolutions.\n",
        "    \"\"\"\n",
        "    # backend, layers, models, keras_utils = get_submodules_from_kwargs(kwargs)\n",
        "\n",
        "    if not (weights in {'imagenet', None} or os.path.exists(weights)):\n",
        "        raise ValueError('The `weights` argument should be either '\n",
        "                         '`None` (random initialization), `imagenet` '\n",
        "                         '(pre-training on ImageNet), '\n",
        "                         'or the path to the weights file to be loaded.')\n",
        "\n",
        "    if weights == 'imagenet' and include_top and classes != 1000:\n",
        "        raise ValueError('If using `weights` as `\"imagenet\"` with `include_top`'\n",
        "                         ' as true, `classes` should be 1000')\n",
        "\n",
        "    # Determine proper input shape\n",
        "    input_shape = (256, 256, 3)\n",
        "\n",
        "    if input_tensor is None:\n",
        "        img_input = layers.Input(shape=input_shape)\n",
        "    else:\n",
        "        if not backend.is_keras_tensor(input_tensor):\n",
        "            img_input = layers.Input(tensor=input_tensor, shape=input_shape)\n",
        "        else:\n",
        "            img_input = input_tensor\n",
        "\n",
        "    channel_axis = 1 if backend.image_data_format() == 'channels_first' else -1\n",
        "\n",
        "    x = layers.Conv2D(32, (3, 3),\n",
        "                      strides=(2, 2),\n",
        "                      use_bias=False,\n",
        "                      name='block1_conv1')(img_input)\n",
        "    x = layers.BatchNormalization(axis=channel_axis, name='block1_conv1_bn')(x)\n",
        "    x = layers.Activation('relu', name='block1_conv1_act')(x)\n",
        "    x = layers.Conv2D(64, (3, 3), use_bias=False, name='block1_conv2')(x)\n",
        "    x = layers.BatchNormalization(axis=channel_axis, name='block1_conv2_bn')(x)\n",
        "    x = layers.Activation('relu', name='block1_conv2_act')(x)\n",
        "\n",
        "    residual = layers.Conv2D(128, (1, 1),\n",
        "                             strides=(2, 2),\n",
        "                             padding='same',\n",
        "                             use_bias=False)(x)\n",
        "    residual = layers.BatchNormalization(axis=channel_axis)(residual)\n",
        "\n",
        "    x = layers.SeparableConv2D(128, (3, 3),\n",
        "                               padding='same',\n",
        "                               use_bias=False,\n",
        "                               name='block2_sepconv1')(x)\n",
        "    x = layers.BatchNormalization(axis=channel_axis, name='block2_sepconv1_bn')(x)\n",
        "    x = layers.Activation('relu', name='block2_sepconv2_act')(x)\n",
        "    x = layers.SeparableConv2D(128, (3, 3),\n",
        "                               padding='same',\n",
        "                               use_bias=False,\n",
        "                               name='block2_sepconv2')(x)\n",
        "    x = layers.BatchNormalization(axis=channel_axis, name='block2_sepconv2_bn')(x)\n",
        "\n",
        "    x = layers.MaxPooling2D((3, 3),\n",
        "                            strides=(2, 2),\n",
        "                            padding='same',\n",
        "                            name='block2_pool')(x)\n",
        "    x = layers.add([x, residual])\n",
        "\n",
        "    residual = layers.Conv2D(256, (1, 1), strides=(2, 2),\n",
        "                             padding='same', use_bias=False)(x)\n",
        "    residual = layers.BatchNormalization(axis=channel_axis)(residual)\n",
        "\n",
        "    x = layers.Activation('relu', name='block3_sepconv1_act')(x)\n",
        "    x = layers.SeparableConv2D(256, (3, 3),\n",
        "                               padding='same',\n",
        "                               use_bias=False,\n",
        "                               name='block3_sepconv1')(x)\n",
        "    x = layers.BatchNormalization(axis=channel_axis, name='block3_sepconv1_bn')(x)\n",
        "    x = layers.Activation('relu', name='block3_sepconv2_act')(x)\n",
        "    x = layers.SeparableConv2D(256, (3, 3),\n",
        "                               padding='same',\n",
        "                               use_bias=False,\n",
        "                               name='block3_sepconv2')(x)\n",
        "    x = layers.BatchNormalization(axis=channel_axis, name='block3_sepconv2_bn')(x)\n",
        "\n",
        "    x = layers.MaxPooling2D((3, 3), strides=(2, 2),\n",
        "                            padding='same',\n",
        "                            name='block3_pool')(x)\n",
        "    x = layers.add([x, residual])\n",
        "\n",
        "    residual = layers.Conv2D(728, (1, 1),\n",
        "                             strides=(2, 2),\n",
        "                             padding='same',\n",
        "                             use_bias=False)(x)\n",
        "    residual = layers.BatchNormalization(axis=channel_axis)(residual)\n",
        "\n",
        "    x = layers.Activation('relu', name='block4_sepconv1_act')(x)\n",
        "    x = layers.SeparableConv2D(728, (3, 3),\n",
        "                               padding='same',\n",
        "                               use_bias=False,\n",
        "                               name='block4_sepconv1')(x)\n",
        "    x = layers.BatchNormalization(axis=channel_axis, name='block4_sepconv1_bn')(x)\n",
        "    x = layers.Activation('relu', name='block4_sepconv2_act')(x)\n",
        "    x = layers.SeparableConv2D(728, (3, 3),\n",
        "                               padding='same',\n",
        "                               use_bias=False,\n",
        "                               name='block4_sepconv2')(x)\n",
        "    x = layers.BatchNormalization(axis=channel_axis, name='block4_sepconv2_bn')(x)\n",
        "\n",
        "    x = layers.MaxPooling2D((3, 3), strides=(2, 2),\n",
        "                            padding='same',\n",
        "                            name='block4_pool')(x)\n",
        "    x = layers.add([x, residual])\n",
        "\n",
        "    for i in range(8):\n",
        "        residual = x\n",
        "        prefix = 'block' + str(i + 5)\n",
        "\n",
        "        x = layers.Activation('relu', name=prefix + '_sepconv1_act')(x)\n",
        "        x = layers.SeparableConv2D(728, (3, 3),\n",
        "                                   padding='same',\n",
        "                                   use_bias=False,\n",
        "                                   name=prefix + '_sepconv1')(x)\n",
        "        x = layers.BatchNormalization(axis=channel_axis,\n",
        "                                      name=prefix + '_sepconv1_bn')(x)\n",
        "        x = layers.Activation('relu', name=prefix + '_sepconv2_act')(x)\n",
        "        x = layers.SeparableConv2D(728, (3, 3),\n",
        "                                   padding='same',\n",
        "                                   use_bias=False,\n",
        "                                   name=prefix + '_sepconv2')(x)\n",
        "        x = layers.BatchNormalization(axis=channel_axis,\n",
        "                                      name=prefix + '_sepconv2_bn')(x)\n",
        "        x = layers.Activation('relu', name=prefix + '_sepconv3_act')(x)\n",
        "        x = layers.SeparableConv2D(728, (3, 3),\n",
        "                                   padding='same',\n",
        "                                   use_bias=False,\n",
        "                                   name=prefix + '_sepconv3')(x)\n",
        "        x = layers.BatchNormalization(axis=channel_axis,\n",
        "                                      name=prefix + '_sepconv3_bn')(x)\n",
        "\n",
        "        x = layers.add([x, residual])\n",
        "\n",
        "    residual = layers.Conv2D(1024, (1, 1), strides=(2, 2),\n",
        "                             padding='same', use_bias=False)(x)\n",
        "    residual = layers.BatchNormalization(axis=channel_axis)(residual)\n",
        "\n",
        "    x = layers.Activation('relu', name='block13_sepconv1_act')(x)\n",
        "    x = layers.SeparableConv2D(728, (3, 3),\n",
        "                               padding='same',\n",
        "                               use_bias=False,\n",
        "                               name='block13_sepconv1')(x)\n",
        "    x = layers.BatchNormalization(axis=channel_axis, name='block13_sepconv1_bn')(x)\n",
        "    x = layers.Activation('relu', name='block13_sepconv2_act')(x)\n",
        "    x = layers.SeparableConv2D(1024, (3, 3),\n",
        "                               padding='same',\n",
        "                               use_bias=False,\n",
        "                               name='block13_sepconv2')(x)\n",
        "    x = layers.BatchNormalization(axis=channel_axis, name='block13_sepconv2_bn')(x)\n",
        "\n",
        "    x = layers.MaxPooling2D((3, 3),\n",
        "                            strides=(2, 2),\n",
        "                            padding='same',\n",
        "                            name='block13_pool')(x)\n",
        "    x = layers.add([x, residual])\n",
        "\n",
        "    x = layers.SeparableConv2D(1536, (3, 3),\n",
        "                               padding='same',\n",
        "                               use_bias=False,\n",
        "                               name='block14_sepconv1')(x)\n",
        "    x = layers.BatchNormalization(axis=channel_axis, name='block14_sepconv1_bn')(x)\n",
        "    x = layers.Activation('relu', name='block14_sepconv1_act')(x)\n",
        "\n",
        "    x = layers.SeparableConv2D(2048, (3, 3),\n",
        "                               padding='same',\n",
        "                               use_bias=False,\n",
        "                               name='block14_sepconv2')(x)\n",
        "    x = layers.BatchNormalization(axis=channel_axis, name='block14_sepconv2_bn')(x)\n",
        "    x = layers.Activation('relu', name='block14_sepconv2_act')(x)\n",
        "\n",
        "    # if include_top:\n",
        "    #     x = layers.GlobalAveragePooling2D(name='avg_pool')(x)\n",
        "    #     x = layers.Dense(classes, activation='softmax', name='predictions')(x)\n",
        "\n",
        "    x = layers.GlobalMaxPooling2D()(x)\n",
        "\n",
        "    # Ensure that the model takes into account\n",
        "    # any potential predecessors of `input_tensor`.\n",
        "    inputs = img_input\n",
        "    # Create model.\n",
        "    model = models.Model(inputs, x, name='xception')\n",
        "\n",
        "    # Load weights.\n",
        "    if weights == 'imagenet':\n",
        "        weights_path = TF_WEIGHTS_PATH_NO_TOP\n",
        "        model.load_weights(weights_path)\n",
        "    elif weights is not None:\n",
        "        model.load_weights(weights)\n",
        "\n",
        "    # Set the layers to be non-trainable\n",
        "    for layer in range(len(model.layers) - 1):\n",
        "        if isinstance(model.layers[layer], (layers.BatchNormalization, layers.Conv2D, layers.SeparableConv2D)):\n",
        "            model.layers[layer].trainable = False\n",
        "    return model"
      ],
      "metadata": {
        "id": "2heIBDN1L6Ip"
      },
      "execution_count": null,
      "outputs": []
    },
    {
      "cell_type": "code",
      "source": [],
      "metadata": {
        "id": "srSWw9edSJiu"
      },
      "execution_count": null,
      "outputs": []
    },
    {
      "cell_type": "code",
      "source": [],
      "metadata": {
        "id": "n79mkrKmSJSP"
      },
      "execution_count": null,
      "outputs": []
    },
    {
      "cell_type": "code",
      "source": [],
      "metadata": {
        "id": "VpFnWnqSRQZC",
        "colab": {
          "base_uri": "https://localhost:8080/"
        },
        "outputId": "894a7698-bc4b-4424-d7d5-e1c05fb5c04c"
      },
      "execution_count": null,
      "outputs": [
        {
          "output_type": "execute_result",
          "data": {
            "text/plain": [
              "16384"
            ]
          },
          "metadata": {},
          "execution_count": 6
        }
      ]
    },
    {
      "cell_type": "markdown",
      "source": [
        "# Alex Net"
      ],
      "metadata": {
        "id": "NALJ_JylhhPw"
      }
    },
    {
      "cell_type": "code",
      "source": [
        "def buildAlexNet(inputs):\n",
        "    y = Conv2D(filters=96, kernel_size=(11,11), strides=(4,4), activation='relu', input_shape=(227,227,3))(inputs)\n",
        "    y = BatchNormalization()(y)\n",
        "    y = MaxPool2D(pool_size=(3,3), strides=(2,2))(y)\n",
        "    y = Conv2D(filters=256, kernel_size=(5,5), strides=(1,1), activation='relu', padding=\"same\")(y)\n",
        "    y = BatchNormalization()(y)\n",
        "    y = MaxPool2D(pool_size=(3,3), strides=(2,2))(y)\n",
        "    y = Conv2D(filters=384, kernel_size=(3,3), strides=(1,1), activation='relu', padding=\"same\")(y)\n",
        "    y = BatchNormalization()(y)\n",
        "    y = Conv2D(filters=384, kernel_size=(1,1), strides=(1,1), activation='relu', padding=\"same\")(y)\n",
        "    y = BatchNormalization()(y)\n",
        "    y = Conv2D(filters=256, kernel_size=(1,1), strides=(1,1), activation='relu', padding=\"same\")(y)\n",
        "    y = BatchNormalization()(y)\n",
        "    y = MaxPool2D(pool_size=(3,3), strides=(2,2))(y)\n",
        "    y = Flatten()(y)\n",
        "\n",
        "    return y\n"
      ],
      "metadata": {
        "id": "FjhC-4q4hj9A"
      },
      "execution_count": 4,
      "outputs": []
    },
    {
      "cell_type": "code",
      "source": [
        "def buildXception(inputs):\n",
        "\n",
        "    channel_axis = -1\n",
        "    x = Conv2D(32, (3, 3),\n",
        "                      strides=(2, 2),\n",
        "                      use_bias=False,\n",
        "                      name='block1_conv1')(inputs)\n",
        "    x = BatchNormalization(axis=channel_axis, name='block1_conv1_bn')(x)\n",
        "    x = Activation('relu', name='block1_conv1_act')(x)\n",
        "    x = Conv2D(64, (3, 3), use_bias=False, name='block1_conv2')(x)\n",
        "    x = BatchNormalization(axis=channel_axis, name='block1_conv2_bn')(x)\n",
        "    x = Activation('relu', name='block1_conv2_act')(x)\n",
        "\n",
        "    residual = Conv2D(128, (1, 1),\n",
        "                             strides=(2, 2),\n",
        "                             padding='same',\n",
        "                             use_bias=False)(x)\n",
        "    residual = BatchNormalization(axis=channel_axis)(residual)\n",
        "\n",
        "    x = SeparableConv2D(128, (3, 3),\n",
        "                               padding='same',\n",
        "                               use_bias=False,\n",
        "                               name='block2_sepconv1')(x)\n",
        "    x = BatchNormalization(axis=channel_axis, name='block2_sepconv1_bn')(x)\n",
        "    x = Activation('relu', name='block2_sepconv2_act')(x)\n",
        "    x = SeparableConv2D(128, (3, 3),\n",
        "                               padding='same',\n",
        "                               use_bias=False,\n",
        "                               name='block2_sepconv2')(x)\n",
        "    x = BatchNormalization(axis=channel_axis, name='block2_sepconv2_bn')(x)\n",
        "\n",
        "    x = MaxPooling2D((3, 3),\n",
        "                            strides=(2, 2),\n",
        "                            padding='same',\n",
        "                            name='block2_pool')(x)\n",
        "    x = add([x, residual])\n",
        "\n",
        "    residual = Conv2D(256, (1, 1), strides=(2, 2),\n",
        "                             padding='same', use_bias=False)(x)\n",
        "    residual = BatchNormalization(axis=channel_axis)(residual)\n",
        "\n",
        "    x = Activation('relu', name='block3_sepconv1_act')(x)\n",
        "    x = SeparableConv2D(256, (3, 3),\n",
        "                               padding='same',\n",
        "                               use_bias=False,\n",
        "                               name='block3_sepconv1')(x)\n",
        "    x = BatchNormalization(axis=channel_axis, name='block3_sepconv1_bn')(x)\n",
        "    x = Activation('relu', name='block3_sepconv2_act')(x)\n",
        "    x = SeparableConv2D(256, (3, 3),\n",
        "                               padding='same',\n",
        "                               use_bias=False,\n",
        "                               name='block3_sepconv2')(x)\n",
        "    x = BatchNormalization(axis=channel_axis, name='block3_sepconv2_bn')(x)\n",
        "\n",
        "    x = MaxPooling2D((3, 3), strides=(2, 2),\n",
        "                            padding='same',\n",
        "                            name='block3_pool')(x)\n",
        "    x = add([x, residual])\n",
        "\n",
        "    residual = Conv2D(728, (1, 1),\n",
        "                             strides=(2, 2),\n",
        "                             padding='same',\n",
        "                             use_bias=False)(x)\n",
        "    residual = BatchNormalization(axis=channel_axis)(residual)\n",
        "\n",
        "    x = Activation('relu', name='block4_sepconv1_act')(x)\n",
        "    x = SeparableConv2D(728, (3, 3),\n",
        "                               padding='same',\n",
        "                               use_bias=False,\n",
        "                               name='block4_sepconv1')(x)\n",
        "    x = BatchNormalization(axis=channel_axis, name='block4_sepconv1_bn')(x)\n",
        "    x = Activation('relu', name='block4_sepconv2_act')(x)\n",
        "    x = SeparableConv2D(728, (3, 3),\n",
        "                               padding='same',\n",
        "                               use_bias=False,\n",
        "                               name='block4_sepconv2')(x)\n",
        "    x = BatchNormalization(axis=channel_axis, name='block4_sepconv2_bn')(x)\n",
        "\n",
        "    x = MaxPooling2D((3, 3), strides=(2, 2),\n",
        "                            padding='same',\n",
        "                            name='block4_pool')(x)\n",
        "    x = add([x, residual])\n",
        "\n",
        "    for i in range(8):\n",
        "        residual = x\n",
        "        prefix = 'block' + str(i + 5)\n",
        "\n",
        "        x = Activation('relu', name=prefix + '_sepconv1_act')(x)\n",
        "        x = SeparableConv2D(728, (3, 3),\n",
        "                                   padding='same',\n",
        "                                   use_bias=False,\n",
        "                                   name=prefix + '_sepconv1')(x)\n",
        "        x = BatchNormalization(axis=channel_axis,\n",
        "                                      name=prefix + '_sepconv1_bn')(x)\n",
        "        x = Activation('relu', name=prefix + '_sepconv2_act')(x)\n",
        "        x = SeparableConv2D(728, (3, 3),\n",
        "                                   padding='same',\n",
        "                                   use_bias=False,\n",
        "                                   name=prefix + '_sepconv2')(x)\n",
        "        x = BatchNormalization(axis=channel_axis,\n",
        "                                      name=prefix + '_sepconv2_bn')(x)\n",
        "        x = Activation('relu', name=prefix + '_sepconv3_act')(x)\n",
        "        x = SeparableConv2D(728, (3, 3),\n",
        "                                   padding='same',\n",
        "                                   use_bias=False,\n",
        "                                   name=prefix + '_sepconv3')(x)\n",
        "        x = BatchNormalization(axis=channel_axis,\n",
        "                                      name=prefix + '_sepconv3_bn')(x)\n",
        "\n",
        "        x = add([x, residual])\n",
        "\n",
        "    residual = Conv2D(1024, (1, 1), strides=(2, 2),\n",
        "                             padding='same', use_bias=False)(x)\n",
        "    residual = BatchNormalization(axis=channel_axis)(residual)\n",
        "\n",
        "    x = Activation('relu', name='block13_sepconv1_act')(x)\n",
        "    x = SeparableConv2D(728, (3, 3),\n",
        "                               padding='same',\n",
        "                               use_bias=False,\n",
        "                               name='block13_sepconv1')(x)\n",
        "    x = BatchNormalization(axis=channel_axis, name='block13_sepconv1_bn')(x)\n",
        "    x = Activation('relu', name='block13_sepconv2_act')(x)\n",
        "    x = SeparableConv2D(1024, (3, 3),\n",
        "                               padding='same',\n",
        "                               use_bias=False,\n",
        "                               name='block13_sepconv2')(x)\n",
        "    x = BatchNormalization(axis=channel_axis, name='block13_sepconv2_bn')(x)\n",
        "\n",
        "    x = MaxPooling2D((3, 3),\n",
        "                            strides=(2, 2),\n",
        "                            padding='same',\n",
        "                            name='block13_pool')(x)\n",
        "    x = add([x, residual])\n",
        "\n",
        "    x = SeparableConv2D(1536, (3, 3),\n",
        "                               padding='same',\n",
        "                               use_bias=False,\n",
        "                               name='block14_sepconv1')(x)\n",
        "    x = BatchNormalization(axis=channel_axis, name='block14_sepconv1_bn')(x)\n",
        "    x = Activation('relu', name='block14_sepconv1_act')(x)\n",
        "\n",
        "    x = SeparableConv2D(2048, (3, 3),\n",
        "                               padding='same',\n",
        "                               use_bias=False,\n",
        "                               name='block14_sepconv2')(x)\n",
        "    x = BatchNormalization(axis=channel_axis, name='block14_sepconv2_bn')(x)\n",
        "    x = Activation('relu', name='block14_sepconv2_act')(x)\n",
        "    x = GlobalMaxPooling2D()(x)\n",
        "    x = Flatten()(x)\n",
        "    return x"
      ],
      "metadata": {
        "id": "CRR0J_zKhj6S"
      },
      "execution_count": 5,
      "outputs": []
    },
    {
      "cell_type": "code",
      "source": [],
      "metadata": {
        "id": "KcTTJDF-hj4q"
      },
      "execution_count": 5,
      "outputs": []
    },
    {
      "cell_type": "code",
      "source": [],
      "metadata": {
        "id": "2tfWtpKHhjz6"
      },
      "execution_count": 5,
      "outputs": []
    },
    {
      "cell_type": "markdown",
      "source": [
        "# Hybridization"
      ],
      "metadata": {
        "id": "jsdLDDRYklBs"
      }
    },
    {
      "cell_type": "code",
      "source": [],
      "metadata": {
        "id": "X5inMSv1hjq-"
      },
      "execution_count": null,
      "outputs": []
    },
    {
      "cell_type": "code",
      "source": [
        "def buildXANet():\n",
        "    # input layer\n",
        "\n",
        "    inputs = Input(shape=(256, 256, 3))\n",
        "\n",
        "    # SOTA Xception and AlexNet\n",
        "    x = buildXception(inputs=inputs)\n",
        "    y = buildAlexNet(inputs=inputs)\n",
        "\n",
        "    # DNN\n",
        "    z = layers.concatenate([x,y], axis=-1)\n",
        "    z = Dense(4096, activation='relu')(z)\n",
        "    z = Dropout(0.5)(z)\n",
        "    z = Dense(4096, activation='relu')(z)\n",
        "    z = Dropout(0.5)(z)\n",
        "    z = Dense(1024, activation='leaky_relu')(z)\n",
        "    z = Dropout(0.5)(z)\n",
        "    z = Dense(2, activation='softmax')(z)\n",
        "\n",
        "    # Model\n",
        "    model = Model(inputs, z, name='XANet')\n",
        "\n",
        "    return model"
      ],
      "metadata": {
        "id": "1wKhyekshjor"
      },
      "execution_count": 6,
      "outputs": []
    },
    {
      "cell_type": "code",
      "source": [
        "batch_size=64\n",
        "steps_per_epoch = 3998//batch_size"
      ],
      "metadata": {
        "id": "0z9Daaumhjmc"
      },
      "execution_count": 10,
      "outputs": []
    },
    {
      "cell_type": "code",
      "source": [
        "with tf.device('/GPU:0'):\n",
        "    # Model\n",
        "    model = buildXANet()\n",
        "\n",
        "    # Dataloader\n",
        "    train = ImageDataGenerator(rescale=1/255.0)\n",
        "    trainset = train.flow_from_directory(\n",
        "        '/content/drive/MyDrive/Colab Notebooks/ForgeryDetection/fold0',\n",
        "        target_size=(256, 256),\n",
        "        batch_size=batch_size\n",
        "    )\n",
        "\n",
        "    # Training\n",
        "    opt = Adam(learning_rate=0.001)\n",
        "    model.compile(optimizer=opt, loss='categorical_crossentropy', metrics=['accuracy'])\n",
        "    model.fit(trainset, steps_per_epoch=steps_per_epoch, epochs=5)"
      ],
      "metadata": {
        "colab": {
          "base_uri": "https://localhost:8080/"
        },
        "id": "BT9GlevahjcH",
        "outputId": "453372d4-195b-414c-a8bd-725087e09a4d"
      },
      "execution_count": 11,
      "outputs": [
        {
          "output_type": "stream",
          "name": "stdout",
          "text": [
            "Found 3998 images belonging to 2 classes.\n",
            "Epoch 1/5\n",
            "62/62 [==============================] - 135s 1s/step - loss: 8.3550 - accuracy: 0.5010\n",
            "Epoch 2/5\n",
            "62/62 [==============================] - 84s 1s/step - loss: 1.0059 - accuracy: 0.5069\n",
            "Epoch 3/5\n",
            "62/62 [==============================] - 86s 1s/step - loss: 0.8167 - accuracy: 0.5033\n",
            "Epoch 4/5\n",
            "62/62 [==============================] - 86s 1s/step - loss: 0.7975 - accuracy: 0.5219\n",
            "Epoch 5/5\n",
            "62/62 [==============================] - 85s 1s/step - loss: 0.7895 - accuracy: 0.5092\n"
          ]
        }
      ]
    },
    {
      "cell_type": "code",
      "source": [],
      "metadata": {
        "id": "NYB23YfthjZl"
      },
      "execution_count": null,
      "outputs": []
    },
    {
      "cell_type": "code",
      "source": [],
      "metadata": {
        "id": "QGfQcmUehjW2"
      },
      "execution_count": null,
      "outputs": []
    },
    {
      "cell_type": "markdown",
      "source": [
        "# _**ViT**_\n",
        "\n",
        "\n"
      ],
      "metadata": {
        "id": "S-u-98c2mWva"
      }
    },
    {
      "cell_type": "code",
      "source": [
        "num_classes = 2\n",
        "input_shape = (256, 256, 3)\n",
        "\n",
        "learning_rate = 0.001\n",
        "weight_decay = 0.0001\n",
        "batch_size = 256\n",
        "num_epochs = 25\n",
        "image_size = 240  # We'll resize input images to this size\n",
        "patch_size = 6  # Size of the patches to be extract from the input images\n",
        "num_patches = (image_size // patch_size) ** 2\n",
        "projection_dim = 64\n",
        "num_heads = 4\n",
        "transformer_units = [\n",
        "    projection_dim * 2,\n",
        "    projection_dim,\n",
        "]  # Size of the transformer layers\n",
        "transformer_layers = 8\n",
        "mlp_head_units = [2048, 1024]  # Size of the dense layers of the final classifier"
      ],
      "metadata": {
        "id": "YKNxc3KTmVta"
      },
      "execution_count": null,
      "outputs": []
    },
    {
      "cell_type": "code",
      "source": [
        "class Patches(Layer):\n",
        "    def __init__(self, patch_size):\n",
        "        super().__init__()\n",
        "        self.patch_size = patch_size\n",
        "\n",
        "    def call(self, images):\n",
        "        batch_size = tf.shape(images)[0]\n",
        "        patches = tf.image.extract_patches(\n",
        "            images=images,\n",
        "            sizes=[1, self.patch_size, self.patch_size, 1],\n",
        "            strides=[1, self.patch_size, self.patch_size, 1],\n",
        "            rates=[1, 1, 1, 1],\n",
        "            padding=\"VALID\",\n",
        "        )\n",
        "        patch_dims = patches.shape[-1]\n",
        "        patches = tf.reshape(patches, [batch_size, -1, patch_dims])\n",
        "        return patches"
      ],
      "metadata": {
        "id": "2s-7G7KemVoC"
      },
      "execution_count": null,
      "outputs": []
    },
    {
      "cell_type": "code",
      "source": [
        "class PatchEncoder(Layer):\n",
        "    def __init__(self, num_patches, projection_dim):\n",
        "        super().__init__()\n",
        "        self.num_patches = num_patches\n",
        "        self.projection = Dense(units=projection_dim)\n",
        "        self.position_embedding = Embedding(\n",
        "            input_dim=num_patches, output_dim=projection_dim\n",
        "        )\n",
        "\n",
        "    def call(self, patch):\n",
        "        positions = tf.range(start=0, limit=self.num_patches, delta=1)\n",
        "        encoded = self.projection(patch) + self.position_embedding(positions)\n",
        "        return encoded"
      ],
      "metadata": {
        "id": "XENzxP7Ropxd"
      },
      "execution_count": null,
      "outputs": []
    },
    {
      "cell_type": "code",
      "source": [
        "def MLP(x, hidden_units, dropout_rate):\n",
        "    for units in hidden_units:\n",
        "        x = Dense(units, activation=tf.nn.gelu)(x)\n",
        "        x = Dropout(dropout_rate)(x)\n",
        "    return x"
      ],
      "metadata": {
        "id": "4iFgB_MZmVhS"
      },
      "execution_count": null,
      "outputs": []
    },
    {
      "cell_type": "code",
      "source": [
        "def ModelViT():\n",
        "    inputs = Input(shape=input_shape)\n",
        "\n",
        "    # Create patches & Encode patches.\n",
        "    patches = Patches(patch_size)(input)\n",
        "    encoded_patches = PatchEncoder(num_patches, projection_dim)(patches)\n",
        "\n",
        "    # Create multiple layers of the Transformer block.\n",
        "    for _ in range(transformer_layers):\n",
        "\n",
        "        # Layer normalization 1.\n",
        "        x1 = LayerNormalization(epsilon=1e-6)(encoded_patches)\n",
        "\n",
        "        # Create a multi-head attention layer.\n",
        "        attention_output = MultiHeadAttention(\n",
        "            num_heads=num_heads, key_dim=projection_dim, dropout=0.1\n",
        "        )(x1, x1)\n",
        "\n",
        "        # Skip connection 1.\n",
        "        x2 = Add()([attention_output, encoded_patches])\n",
        "\n",
        "        # Layer normalization 2.\n",
        "        x3 = LayerNormalization(epsilon=1e-6)(x2)\n",
        "\n",
        "        # MLP.\n",
        "        x3 = MLP(x3, hidden_units=transformer_units, dropout_rate=0.1)\n",
        "\n",
        "        # Skip connection 2.\n",
        "        encoded_patches = Add()([x3, x2])\n",
        "\n",
        "    # Create a [batch_size, projection_dim] tensor.\n",
        "    representation = LayerNormalization(epsilon=1e-6)(encoded_patches)\n",
        "    representation = Flatten()(representation)\n",
        "    representation = Dropout(0.5)(representation)\n",
        "\n",
        "    # MLP.\n",
        "    features = MLP(representation, hidden_units=mlp_head_units, dropout_rate=0.5)\n",
        "    logits = Dense(num_classes)(features)\n",
        "\n",
        "    # Create the Keras model.\n",
        "    model = keras.Model(inputs=inputs, outputs=logits)\n",
        "\n",
        "    return model"
      ],
      "metadata": {
        "id": "-eo45dJvpkBs"
      },
      "execution_count": null,
      "outputs": []
    },
    {
      "cell_type": "code",
      "source": [],
      "metadata": {
        "id": "2Z-4ReAQ6RLk"
      },
      "execution_count": null,
      "outputs": []
    },
    {
      "cell_type": "code",
      "source": [
        "es = EarlyStopping(monitor='accuracy', mode='max', verbose=1, patience=20)\n",
        "\n",
        "with tf.device('/GPU:0'):\n",
        "  # Model\n",
        "  model = ModelViT()\n",
        "\n",
        "  # Training\n",
        "  opt = Adam(learning_rate=0.01)\n",
        "  model.compile(optimizer=opt, loss='binary_crossentropy', metrics=['accuracy'])\n",
        "  model.fit(trainset, steps_per_epoch=20, epochs=25)"
      ],
      "metadata": {
        "colab": {
          "base_uri": "https://localhost:8080/",
          "height": 467
        },
        "id": "W7KqY_tsM3fe",
        "outputId": "5cb53901-edb6-4706-88e7-77aeb92718a6"
      },
      "execution_count": null,
      "outputs": [
        {
          "output_type": "error",
          "ename": "ValueError",
          "evalue": "ignored",
          "traceback": [
            "\u001b[0;31m---------------------------------------------------------------------------\u001b[0m",
            "\u001b[0;31mValueError\u001b[0m                                Traceback (most recent call last)",
            "\u001b[0;32m<ipython-input-14-d2a85fc5f336>\u001b[0m in \u001b[0;36m<cell line: 3>\u001b[0;34m()\u001b[0m\n\u001b[1;32m      3\u001b[0m \u001b[0;32mwith\u001b[0m \u001b[0mtf\u001b[0m\u001b[0;34m.\u001b[0m\u001b[0mdevice\u001b[0m\u001b[0;34m(\u001b[0m\u001b[0;34m'/GPU:0'\u001b[0m\u001b[0;34m)\u001b[0m\u001b[0;34m:\u001b[0m\u001b[0;34m\u001b[0m\u001b[0;34m\u001b[0m\u001b[0m\n\u001b[1;32m      4\u001b[0m   \u001b[0;31m# Model\u001b[0m\u001b[0;34m\u001b[0m\u001b[0;34m\u001b[0m\u001b[0m\n\u001b[0;32m----> 5\u001b[0;31m   \u001b[0mmodel\u001b[0m \u001b[0;34m=\u001b[0m \u001b[0mModelViT\u001b[0m\u001b[0;34m(\u001b[0m\u001b[0;34m)\u001b[0m\u001b[0;34m\u001b[0m\u001b[0;34m\u001b[0m\u001b[0m\n\u001b[0m\u001b[1;32m      6\u001b[0m \u001b[0;34m\u001b[0m\u001b[0m\n\u001b[1;32m      7\u001b[0m   \u001b[0;31m# Training\u001b[0m\u001b[0;34m\u001b[0m\u001b[0;34m\u001b[0m\u001b[0m\n",
            "\u001b[0;32m<ipython-input-13-baec58f871cd>\u001b[0m in \u001b[0;36mModelViT\u001b[0;34m()\u001b[0m\n\u001b[1;32m      3\u001b[0m \u001b[0;34m\u001b[0m\u001b[0m\n\u001b[1;32m      4\u001b[0m     \u001b[0;31m# Create patches & Encode patches.\u001b[0m\u001b[0;34m\u001b[0m\u001b[0;34m\u001b[0m\u001b[0m\n\u001b[0;32m----> 5\u001b[0;31m     \u001b[0mpatches\u001b[0m \u001b[0;34m=\u001b[0m \u001b[0mPatches\u001b[0m\u001b[0;34m(\u001b[0m\u001b[0mpatch_size\u001b[0m\u001b[0;34m)\u001b[0m\u001b[0;34m(\u001b[0m\u001b[0minput\u001b[0m\u001b[0;34m)\u001b[0m\u001b[0;34m\u001b[0m\u001b[0;34m\u001b[0m\u001b[0m\n\u001b[0m\u001b[1;32m      6\u001b[0m     \u001b[0mencoded_patches\u001b[0m \u001b[0;34m=\u001b[0m \u001b[0mPatchEncoder\u001b[0m\u001b[0;34m(\u001b[0m\u001b[0mnum_patches\u001b[0m\u001b[0;34m,\u001b[0m \u001b[0mprojection_dim\u001b[0m\u001b[0;34m)\u001b[0m\u001b[0;34m(\u001b[0m\u001b[0mpatches\u001b[0m\u001b[0;34m)\u001b[0m\u001b[0;34m\u001b[0m\u001b[0;34m\u001b[0m\u001b[0m\n\u001b[1;32m      7\u001b[0m \u001b[0;34m\u001b[0m\u001b[0m\n",
            "\u001b[0;32m/usr/local/lib/python3.10/dist-packages/keras/utils/traceback_utils.py\u001b[0m in \u001b[0;36merror_handler\u001b[0;34m(*args, **kwargs)\u001b[0m\n\u001b[1;32m     68\u001b[0m             \u001b[0;31m# To get the full stack trace, call:\u001b[0m\u001b[0;34m\u001b[0m\u001b[0;34m\u001b[0m\u001b[0m\n\u001b[1;32m     69\u001b[0m             \u001b[0;31m# `tf.debugging.disable_traceback_filtering()`\u001b[0m\u001b[0;34m\u001b[0m\u001b[0;34m\u001b[0m\u001b[0m\n\u001b[0;32m---> 70\u001b[0;31m             \u001b[0;32mraise\u001b[0m \u001b[0me\u001b[0m\u001b[0;34m.\u001b[0m\u001b[0mwith_traceback\u001b[0m\u001b[0;34m(\u001b[0m\u001b[0mfiltered_tb\u001b[0m\u001b[0;34m)\u001b[0m \u001b[0;32mfrom\u001b[0m \u001b[0;32mNone\u001b[0m\u001b[0;34m\u001b[0m\u001b[0;34m\u001b[0m\u001b[0m\n\u001b[0m\u001b[1;32m     71\u001b[0m         \u001b[0;32mfinally\u001b[0m\u001b[0;34m:\u001b[0m\u001b[0;34m\u001b[0m\u001b[0;34m\u001b[0m\u001b[0m\n\u001b[1;32m     72\u001b[0m             \u001b[0;32mdel\u001b[0m \u001b[0mfiltered_tb\u001b[0m\u001b[0;34m\u001b[0m\u001b[0;34m\u001b[0m\u001b[0m\n",
            "\u001b[0;32m<ipython-input-10-fa041072142c>\u001b[0m in \u001b[0;36mcall\u001b[0;34m(self, images)\u001b[0m\n\u001b[1;32m      5\u001b[0m \u001b[0;34m\u001b[0m\u001b[0m\n\u001b[1;32m      6\u001b[0m     \u001b[0;32mdef\u001b[0m \u001b[0mcall\u001b[0m\u001b[0;34m(\u001b[0m\u001b[0mself\u001b[0m\u001b[0;34m,\u001b[0m \u001b[0mimages\u001b[0m\u001b[0;34m)\u001b[0m\u001b[0;34m:\u001b[0m\u001b[0;34m\u001b[0m\u001b[0;34m\u001b[0m\u001b[0m\n\u001b[0;32m----> 7\u001b[0;31m         \u001b[0mbatch_size\u001b[0m \u001b[0;34m=\u001b[0m \u001b[0mtf\u001b[0m\u001b[0;34m.\u001b[0m\u001b[0mshape\u001b[0m\u001b[0;34m(\u001b[0m\u001b[0mimages\u001b[0m\u001b[0;34m)\u001b[0m\u001b[0;34m[\u001b[0m\u001b[0;36m0\u001b[0m\u001b[0;34m]\u001b[0m\u001b[0;34m\u001b[0m\u001b[0;34m\u001b[0m\u001b[0m\n\u001b[0m\u001b[1;32m      8\u001b[0m         patches = tf.image.extract_patches(\n\u001b[1;32m      9\u001b[0m             \u001b[0mimages\u001b[0m\u001b[0;34m=\u001b[0m\u001b[0mimages\u001b[0m\u001b[0;34m,\u001b[0m\u001b[0;34m\u001b[0m\u001b[0;34m\u001b[0m\u001b[0m\n",
            "\u001b[0;31mValueError\u001b[0m: Exception encountered when calling layer 'patches' (type Patches).\n\nAttempt to convert a value (<bound method Kernel.raw_input of <google.colab._kernel.Kernel object at 0x7f77feb60310>>) with an unsupported type (<class 'method'>) to a Tensor.\n\nCall arguments received by layer 'patches' (type Patches):\n  • images=<bound method Kernel.raw_input of <google.colab._kernel.Kernel object at 0x7f77feb60310>>"
          ]
        }
      ]
    },
    {
      "cell_type": "code",
      "source": [],
      "metadata": {
        "id": "G2gBu8R-M3dG"
      },
      "execution_count": null,
      "outputs": []
    },
    {
      "cell_type": "code",
      "source": [],
      "metadata": {
        "id": "PRcmLqz1M3ad"
      },
      "execution_count": null,
      "outputs": []
    },
    {
      "cell_type": "markdown",
      "source": [
        "# _**XViT Network**_\n"
      ],
      "metadata": {
        "id": "DfR9LUPsBNNr"
      }
    },
    {
      "cell_type": "code",
      "source": [
        "num_classes = 256\n",
        "input_shape = (256, 256, 3)\n",
        "\n",
        "learning_rate = 0.001\n",
        "weight_decay = 0.0001\n",
        "batch_size = 256\n",
        "num_epochs = 25\n",
        "image_size = 240  # We'll resize input images to this size\n",
        "patch_size = 6  # Size of the patches to be extract from the input images\n",
        "num_patches = (image_size // patch_size) ** 2\n",
        "projection_dim = 64\n",
        "num_heads = 4\n",
        "transformer_units = [\n",
        "    projection_dim * 2,\n",
        "    projection_dim,\n",
        "]  # Size of the transformer layers\n",
        "transformer_layers = 8\n",
        "mlp_head_units = [2048, 1024]  # Size of the dense layers of the final classifier"
      ],
      "metadata": {
        "id": "J5reLZpV721x"
      },
      "execution_count": null,
      "outputs": []
    },
    {
      "cell_type": "code",
      "source": [],
      "metadata": {
        "id": "AmCAYGAA9jb4"
      },
      "execution_count": null,
      "outputs": []
    },
    {
      "cell_type": "code",
      "source": [
        "def Xception():\n",
        "    input = Input(shape = input_shape)\n",
        "    tensor, x = PreConv(input)\n",
        "    x = ConvA(tensor, x)\n",
        "    x = ConvB(x)\n",
        "    output = ConvCOut(x)\n",
        "    return  Model(inputs=input, outputs=output)"
      ],
      "metadata": {
        "id": "Lh6OnYRE9jOu"
      },
      "execution_count": null,
      "outputs": []
    },
    {
      "cell_type": "code",
      "source": [
        "def ModelXViT():\n",
        "  Xception()"
      ],
      "metadata": {
        "id": "Z0lxFCkDBRdJ"
      },
      "execution_count": null,
      "outputs": []
    }
  ]
}